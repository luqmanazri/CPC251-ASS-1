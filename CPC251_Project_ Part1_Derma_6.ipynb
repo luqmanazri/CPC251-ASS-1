{
 "cells": [
  {
   "cell_type": "markdown",
   "metadata": {},
   "source": [
    "#### Import libraries"
   ]
  },
  {
   "cell_type": "code",
   "execution_count": 1,
   "metadata": {},
   "outputs": [
    {
     "name": "stdout",
     "output_type": "stream",
     "text": [
      "Requirement already satisfied: imbalanced-learn in c:\\users\\zahir.laptop-g2rvrkdo\\anaconda3\\lib\\site-packages (0.10.1)\n",
      "Requirement already satisfied: scipy>=1.3.2 in c:\\users\\zahir.laptop-g2rvrkdo\\anaconda3\\lib\\site-packages (from imbalanced-learn) (1.7.1)\n",
      "Requirement already satisfied: joblib>=1.1.1 in c:\\users\\zahir.laptop-g2rvrkdo\\anaconda3\\lib\\site-packages (from imbalanced-learn) (1.2.0)\n",
      "Requirement already satisfied: scikit-learn>=1.0.2 in c:\\users\\zahir.laptop-g2rvrkdo\\anaconda3\\lib\\site-packages (from imbalanced-learn) (1.2.2)\n",
      "Requirement already satisfied: threadpoolctl>=2.0.0 in c:\\users\\zahir.laptop-g2rvrkdo\\anaconda3\\lib\\site-packages (from imbalanced-learn) (3.1.0)\n",
      "Requirement already satisfied: numpy>=1.17.3 in c:\\users\\zahir.laptop-g2rvrkdo\\anaconda3\\lib\\site-packages (from imbalanced-learn) (1.22.4)\n"
     ]
    }
   ],
   "source": [
    "#This package provides a number of re-sampling techniques commonly used in datasets showing strong between-class imbalance.\n",
    "!pip install imbalanced-learn"
   ]
  },
  {
   "cell_type": "code",
   "execution_count": 2,
   "metadata": {},
   "outputs": [
    {
     "name": "stdout",
     "output_type": "stream",
     "text": [
      "Requirement already satisfied: scikit-learn in c:\\users\\zahir.laptop-g2rvrkdo\\anaconda3\\lib\\site-packages (1.2.2)\n",
      "Requirement already satisfied: imbalanced-learn in c:\\users\\zahir.laptop-g2rvrkdo\\anaconda3\\lib\\site-packages (0.10.1)\n",
      "Requirement already satisfied: scipy>=1.3.2 in c:\\users\\zahir.laptop-g2rvrkdo\\anaconda3\\lib\\site-packages (from scikit-learn) (1.7.1)\n",
      "Requirement already satisfied: numpy>=1.17.3 in c:\\users\\zahir.laptop-g2rvrkdo\\anaconda3\\lib\\site-packages (from scikit-learn) (1.22.4)\n",
      "Requirement already satisfied: joblib>=1.1.1 in c:\\users\\zahir.laptop-g2rvrkdo\\anaconda3\\lib\\site-packages (from scikit-learn) (1.2.0)\n",
      "Requirement already satisfied: threadpoolctl>=2.0.0 in c:\\users\\zahir.laptop-g2rvrkdo\\anaconda3\\lib\\site-packages (from scikit-learn) (3.1.0)\n"
     ]
    }
   ],
   "source": [
    "# Install the latest versions of the scikit-learn and imbalanced-learn packages.\n",
    "# This will ensure that you have the most up-to-date features and bug fixes.\n",
    "!pip install -U scikit-learn imbalanced-learn"
   ]
  },
  {
   "cell_type": "code",
   "execution_count": 3,
   "metadata": {},
   "outputs": [
    {
     "name": "stdout",
     "output_type": "stream",
     "text": [
      "Requirement already satisfied: scikit-learn in c:\\users\\zahir.laptop-g2rvrkdo\\anaconda3\\lib\\site-packages (1.2.2)\n",
      "Requirement already satisfied: threadpoolctl in c:\\users\\zahir.laptop-g2rvrkdo\\anaconda3\\lib\\site-packages (3.1.0)\n",
      "Requirement already satisfied: joblib>=1.1.1 in c:\\users\\zahir.laptop-g2rvrkdo\\anaconda3\\lib\\site-packages (from scikit-learn) (1.2.0)\n",
      "Requirement already satisfied: numpy>=1.17.3 in c:\\users\\zahir.laptop-g2rvrkdo\\anaconda3\\lib\\site-packages (from scikit-learn) (1.22.4)\n",
      "Requirement already satisfied: scipy>=1.3.2 in c:\\users\\zahir.laptop-g2rvrkdo\\anaconda3\\lib\\site-packages (from scikit-learn) (1.7.1)\n"
     ]
    }
   ],
   "source": [
    "#Install the latest versions of scikit-learn and threadpoolctl.\n",
    "#This will ensure that you have the most up-to-date features and bug fixes.\n",
    "!pip install -U scikit-learn threadpoolctl"
   ]
  },
  {
   "cell_type": "code",
   "execution_count": 4,
   "metadata": {},
   "outputs": [],
   "source": [
    "# Disable Jedi autocompletion.\n",
    "%config Completer.use_jedi=False\n",
    "\n",
    "# Import the pandas library.\n",
    "import pandas as pd\n",
    "\n",
    "# Import the seaborn library\n",
    "import seaborn as sns\n",
    "\n",
    "# Import the numpy library.\n",
    "import numpy as np\n",
    "\n",
    "# Import the matplotlib library.\n",
    "import matplotlib.pyplot as plt\n",
    "\n",
    "# Import the tensorflow library.\n",
    "import tensorflow as tf\n",
    "\n",
    "# Import the time library.\n",
    "import time\n",
    "\n",
    "# Import the warnings library.\n",
    "import warnings\n",
    "\n",
    "# Ignore warnings.\n",
    "warnings.filterwarnings('ignore')\n",
    "\n",
    "# Import the necessary metrics from sklearn for evaluation purposes\n",
    "from sklearn.metrics import f1_score\n",
    "from sklearn.metrics import accuracy_score\n",
    "from sklearn.metrics import precision_score\n",
    "from sklearn.metrics import recall_score\n",
    "from sklearn.metrics import confusion_matrix"
   ]
  },
  {
   "cell_type": "markdown",
   "metadata": {},
   "source": [
    "#### Load the dataset"
   ]
  },
  {
   "cell_type": "code",
   "execution_count": 5,
   "metadata": {},
   "outputs": [],
   "source": [
    "# Read the 'dermatology.csv' file into a pandas DataFrame.\n",
    "df = pd.read_csv('dermatology.csv')"
   ]
  },
  {
   "cell_type": "markdown",
   "metadata": {},
   "source": [
    "#### Data preprocessing\n",
    "Perform data preprocessing such as normalization, standardization, label encoding etc.\n",
    "______________________________________________________________________________________\n",
    "Description: In this part, a row of labels was added to the original data and cleaned by removing the data's null values. The data was then normalized to make sure the information in the data was consistent. Lastly, the data was split into several sets to be used when building the model."
   ]
  },
  {
   "cell_type": "markdown",
   "metadata": {},
   "source": [
    "##### Label Encoding"
   ]
  },
  {
   "cell_type": "code",
   "execution_count": 6,
   "metadata": {
    "scrolled": false
   },
   "outputs": [
    {
     "data": {
      "text/html": [
       "<div>\n",
       "<style scoped>\n",
       "    .dataframe tbody tr th:only-of-type {\n",
       "        vertical-align: middle;\n",
       "    }\n",
       "\n",
       "    .dataframe tbody tr th {\n",
       "        vertical-align: top;\n",
       "    }\n",
       "\n",
       "    .dataframe thead th {\n",
       "        text-align: right;\n",
       "    }\n",
       "</style>\n",
       "<table border=\"1\" class=\"dataframe\">\n",
       "  <thead>\n",
       "    <tr style=\"text-align: right;\">\n",
       "      <th></th>\n",
       "      <th>2</th>\n",
       "      <th>2.1</th>\n",
       "      <th>0</th>\n",
       "      <th>3</th>\n",
       "      <th>0.1</th>\n",
       "      <th>0.2</th>\n",
       "      <th>0.3</th>\n",
       "      <th>0.4</th>\n",
       "      <th>1</th>\n",
       "      <th>0.5</th>\n",
       "      <th>...</th>\n",
       "      <th>0.19</th>\n",
       "      <th>0.20</th>\n",
       "      <th>3.2</th>\n",
       "      <th>0.21</th>\n",
       "      <th>0.22</th>\n",
       "      <th>0.23</th>\n",
       "      <th>1.1</th>\n",
       "      <th>0.24</th>\n",
       "      <th>55</th>\n",
       "      <th>2.3</th>\n",
       "    </tr>\n",
       "  </thead>\n",
       "  <tbody>\n",
       "    <tr>\n",
       "      <th>0</th>\n",
       "      <td>3</td>\n",
       "      <td>3</td>\n",
       "      <td>3</td>\n",
       "      <td>2</td>\n",
       "      <td>1</td>\n",
       "      <td>0</td>\n",
       "      <td>0</td>\n",
       "      <td>0</td>\n",
       "      <td>1</td>\n",
       "      <td>1</td>\n",
       "      <td>...</td>\n",
       "      <td>0</td>\n",
       "      <td>0</td>\n",
       "      <td>0</td>\n",
       "      <td>0</td>\n",
       "      <td>0</td>\n",
       "      <td>0</td>\n",
       "      <td>1</td>\n",
       "      <td>0</td>\n",
       "      <td>8</td>\n",
       "      <td>1</td>\n",
       "    </tr>\n",
       "    <tr>\n",
       "      <th>1</th>\n",
       "      <td>2</td>\n",
       "      <td>1</td>\n",
       "      <td>2</td>\n",
       "      <td>3</td>\n",
       "      <td>1</td>\n",
       "      <td>3</td>\n",
       "      <td>0</td>\n",
       "      <td>3</td>\n",
       "      <td>0</td>\n",
       "      <td>0</td>\n",
       "      <td>...</td>\n",
       "      <td>0</td>\n",
       "      <td>2</td>\n",
       "      <td>3</td>\n",
       "      <td>2</td>\n",
       "      <td>0</td>\n",
       "      <td>0</td>\n",
       "      <td>2</td>\n",
       "      <td>3</td>\n",
       "      <td>26</td>\n",
       "      <td>3</td>\n",
       "    </tr>\n",
       "    <tr>\n",
       "      <th>2</th>\n",
       "      <td>2</td>\n",
       "      <td>2</td>\n",
       "      <td>2</td>\n",
       "      <td>0</td>\n",
       "      <td>0</td>\n",
       "      <td>0</td>\n",
       "      <td>0</td>\n",
       "      <td>0</td>\n",
       "      <td>3</td>\n",
       "      <td>2</td>\n",
       "      <td>...</td>\n",
       "      <td>3</td>\n",
       "      <td>0</td>\n",
       "      <td>0</td>\n",
       "      <td>0</td>\n",
       "      <td>0</td>\n",
       "      <td>0</td>\n",
       "      <td>3</td>\n",
       "      <td>0</td>\n",
       "      <td>40</td>\n",
       "      <td>1</td>\n",
       "    </tr>\n",
       "    <tr>\n",
       "      <th>3</th>\n",
       "      <td>2</td>\n",
       "      <td>3</td>\n",
       "      <td>2</td>\n",
       "      <td>2</td>\n",
       "      <td>2</td>\n",
       "      <td>2</td>\n",
       "      <td>0</td>\n",
       "      <td>2</td>\n",
       "      <td>0</td>\n",
       "      <td>0</td>\n",
       "      <td>...</td>\n",
       "      <td>2</td>\n",
       "      <td>3</td>\n",
       "      <td>2</td>\n",
       "      <td>3</td>\n",
       "      <td>0</td>\n",
       "      <td>0</td>\n",
       "      <td>2</td>\n",
       "      <td>3</td>\n",
       "      <td>45</td>\n",
       "      <td>3</td>\n",
       "    </tr>\n",
       "    <tr>\n",
       "      <th>4</th>\n",
       "      <td>2</td>\n",
       "      <td>3</td>\n",
       "      <td>2</td>\n",
       "      <td>0</td>\n",
       "      <td>0</td>\n",
       "      <td>0</td>\n",
       "      <td>0</td>\n",
       "      <td>0</td>\n",
       "      <td>0</td>\n",
       "      <td>0</td>\n",
       "      <td>...</td>\n",
       "      <td>0</td>\n",
       "      <td>0</td>\n",
       "      <td>2</td>\n",
       "      <td>0</td>\n",
       "      <td>0</td>\n",
       "      <td>0</td>\n",
       "      <td>1</td>\n",
       "      <td>0</td>\n",
       "      <td>41</td>\n",
       "      <td>2</td>\n",
       "    </tr>\n",
       "  </tbody>\n",
       "</table>\n",
       "<p>5 rows × 35 columns</p>\n",
       "</div>"
      ],
      "text/plain": [
       "   2  2.1  0  3  0.1  0.2  0.3  0.4  1  0.5  ...  0.19  0.20  3.2  0.21  0.22  \\\n",
       "0  3    3  3  2    1    0    0    0  1    1  ...     0     0    0     0     0   \n",
       "1  2    1  2  3    1    3    0    3  0    0  ...     0     2    3     2     0   \n",
       "2  2    2  2  0    0    0    0    0  3    2  ...     3     0    0     0     0   \n",
       "3  2    3  2  2    2    2    0    2  0    0  ...     2     3    2     3     0   \n",
       "4  2    3  2  0    0    0    0    0  0    0  ...     0     0    2     0     0   \n",
       "\n",
       "   0.23  1.1  0.24  55  2.3  \n",
       "0     0    1     0   8    1  \n",
       "1     0    2     3  26    3  \n",
       "2     0    3     0  40    1  \n",
       "3     0    2     3  45    3  \n",
       "4     0    1     0  41    2  \n",
       "\n",
       "[5 rows x 35 columns]"
      ]
     },
     "execution_count": 6,
     "metadata": {},
     "output_type": "execute_result"
    }
   ],
   "source": [
    "# Display the first 5 rows of the DataFrame.\n",
    "df.head()"
   ]
  },
  {
   "cell_type": "code",
   "execution_count": 7,
   "metadata": {},
   "outputs": [],
   "source": [
    "# Create a list of column names for labelling the columns\n",
    "column_names = ['erythema', 'scaling', 'definite borders', 'itching', 'koebner phenomenon', 'polygonal papules', 'follicular papules', 'oral mucosal involvement', 'knee and elbow involvement', 'scalp involvement', 'family history', 'melanin incontinence', 'eosinophils in the infiltrate', 'PNL infiltrate', 'fibrosis of the papillary dermis', 'exocytosis', 'acanthosis', 'hyperkeratosis', 'parakeratosis', 'clubbing of the rete ridges', 'elongation of the rete ridges', 'thinning of the suprapapillary epidermis', 'spongiform pustule', 'munro microabcess', 'focal hypergranulosis', 'disappearance of the granular layer', 'vacuolisation and damage of basal layer', 'spongiosis', 'saw-tooth appearance of retes', 'follicular horn plug', 'perifollicular parakeratosis', 'inflammatory monoluclear inflitrate', 'band-like infiltrate', 'Age (linear)', 'Result']\n",
    "\n",
    "# Assign the list of column names to the `columns` attribute of the DataFrame\n",
    "df.columns = column_names\n"
   ]
  },
  {
   "cell_type": "code",
   "execution_count": 8,
   "metadata": {},
   "outputs": [
    {
     "data": {
      "text/html": [
       "<div>\n",
       "<style scoped>\n",
       "    .dataframe tbody tr th:only-of-type {\n",
       "        vertical-align: middle;\n",
       "    }\n",
       "\n",
       "    .dataframe tbody tr th {\n",
       "        vertical-align: top;\n",
       "    }\n",
       "\n",
       "    .dataframe thead th {\n",
       "        text-align: right;\n",
       "    }\n",
       "</style>\n",
       "<table border=\"1\" class=\"dataframe\">\n",
       "  <thead>\n",
       "    <tr style=\"text-align: right;\">\n",
       "      <th></th>\n",
       "      <th>erythema</th>\n",
       "      <th>scaling</th>\n",
       "      <th>definite borders</th>\n",
       "      <th>itching</th>\n",
       "      <th>koebner phenomenon</th>\n",
       "      <th>polygonal papules</th>\n",
       "      <th>follicular papules</th>\n",
       "      <th>oral mucosal involvement</th>\n",
       "      <th>knee and elbow involvement</th>\n",
       "      <th>scalp involvement</th>\n",
       "      <th>...</th>\n",
       "      <th>disappearance of the granular layer</th>\n",
       "      <th>vacuolisation and damage of basal layer</th>\n",
       "      <th>spongiosis</th>\n",
       "      <th>saw-tooth appearance of retes</th>\n",
       "      <th>follicular horn plug</th>\n",
       "      <th>perifollicular parakeratosis</th>\n",
       "      <th>inflammatory monoluclear inflitrate</th>\n",
       "      <th>band-like infiltrate</th>\n",
       "      <th>Age (linear)</th>\n",
       "      <th>Result</th>\n",
       "    </tr>\n",
       "  </thead>\n",
       "  <tbody>\n",
       "    <tr>\n",
       "      <th>0</th>\n",
       "      <td>3</td>\n",
       "      <td>3</td>\n",
       "      <td>3</td>\n",
       "      <td>2</td>\n",
       "      <td>1</td>\n",
       "      <td>0</td>\n",
       "      <td>0</td>\n",
       "      <td>0</td>\n",
       "      <td>1</td>\n",
       "      <td>1</td>\n",
       "      <td>...</td>\n",
       "      <td>0</td>\n",
       "      <td>0</td>\n",
       "      <td>0</td>\n",
       "      <td>0</td>\n",
       "      <td>0</td>\n",
       "      <td>0</td>\n",
       "      <td>1</td>\n",
       "      <td>0</td>\n",
       "      <td>8</td>\n",
       "      <td>1</td>\n",
       "    </tr>\n",
       "    <tr>\n",
       "      <th>1</th>\n",
       "      <td>2</td>\n",
       "      <td>1</td>\n",
       "      <td>2</td>\n",
       "      <td>3</td>\n",
       "      <td>1</td>\n",
       "      <td>3</td>\n",
       "      <td>0</td>\n",
       "      <td>3</td>\n",
       "      <td>0</td>\n",
       "      <td>0</td>\n",
       "      <td>...</td>\n",
       "      <td>0</td>\n",
       "      <td>2</td>\n",
       "      <td>3</td>\n",
       "      <td>2</td>\n",
       "      <td>0</td>\n",
       "      <td>0</td>\n",
       "      <td>2</td>\n",
       "      <td>3</td>\n",
       "      <td>26</td>\n",
       "      <td>3</td>\n",
       "    </tr>\n",
       "    <tr>\n",
       "      <th>2</th>\n",
       "      <td>2</td>\n",
       "      <td>2</td>\n",
       "      <td>2</td>\n",
       "      <td>0</td>\n",
       "      <td>0</td>\n",
       "      <td>0</td>\n",
       "      <td>0</td>\n",
       "      <td>0</td>\n",
       "      <td>3</td>\n",
       "      <td>2</td>\n",
       "      <td>...</td>\n",
       "      <td>3</td>\n",
       "      <td>0</td>\n",
       "      <td>0</td>\n",
       "      <td>0</td>\n",
       "      <td>0</td>\n",
       "      <td>0</td>\n",
       "      <td>3</td>\n",
       "      <td>0</td>\n",
       "      <td>40</td>\n",
       "      <td>1</td>\n",
       "    </tr>\n",
       "    <tr>\n",
       "      <th>3</th>\n",
       "      <td>2</td>\n",
       "      <td>3</td>\n",
       "      <td>2</td>\n",
       "      <td>2</td>\n",
       "      <td>2</td>\n",
       "      <td>2</td>\n",
       "      <td>0</td>\n",
       "      <td>2</td>\n",
       "      <td>0</td>\n",
       "      <td>0</td>\n",
       "      <td>...</td>\n",
       "      <td>2</td>\n",
       "      <td>3</td>\n",
       "      <td>2</td>\n",
       "      <td>3</td>\n",
       "      <td>0</td>\n",
       "      <td>0</td>\n",
       "      <td>2</td>\n",
       "      <td>3</td>\n",
       "      <td>45</td>\n",
       "      <td>3</td>\n",
       "    </tr>\n",
       "    <tr>\n",
       "      <th>4</th>\n",
       "      <td>2</td>\n",
       "      <td>3</td>\n",
       "      <td>2</td>\n",
       "      <td>0</td>\n",
       "      <td>0</td>\n",
       "      <td>0</td>\n",
       "      <td>0</td>\n",
       "      <td>0</td>\n",
       "      <td>0</td>\n",
       "      <td>0</td>\n",
       "      <td>...</td>\n",
       "      <td>0</td>\n",
       "      <td>0</td>\n",
       "      <td>2</td>\n",
       "      <td>0</td>\n",
       "      <td>0</td>\n",
       "      <td>0</td>\n",
       "      <td>1</td>\n",
       "      <td>0</td>\n",
       "      <td>41</td>\n",
       "      <td>2</td>\n",
       "    </tr>\n",
       "  </tbody>\n",
       "</table>\n",
       "<p>5 rows × 35 columns</p>\n",
       "</div>"
      ],
      "text/plain": [
       "   erythema  scaling  definite borders  itching  koebner phenomenon  \\\n",
       "0         3        3                 3        2                   1   \n",
       "1         2        1                 2        3                   1   \n",
       "2         2        2                 2        0                   0   \n",
       "3         2        3                 2        2                   2   \n",
       "4         2        3                 2        0                   0   \n",
       "\n",
       "   polygonal papules  follicular papules  oral mucosal involvement  \\\n",
       "0                  0                   0                         0   \n",
       "1                  3                   0                         3   \n",
       "2                  0                   0                         0   \n",
       "3                  2                   0                         2   \n",
       "4                  0                   0                         0   \n",
       "\n",
       "   knee and elbow involvement  scalp involvement  ...  \\\n",
       "0                           1                  1  ...   \n",
       "1                           0                  0  ...   \n",
       "2                           3                  2  ...   \n",
       "3                           0                  0  ...   \n",
       "4                           0                  0  ...   \n",
       "\n",
       "   disappearance of the granular layer  \\\n",
       "0                                    0   \n",
       "1                                    0   \n",
       "2                                    3   \n",
       "3                                    2   \n",
       "4                                    0   \n",
       "\n",
       "   vacuolisation and damage of basal layer  spongiosis  \\\n",
       "0                                        0           0   \n",
       "1                                        2           3   \n",
       "2                                        0           0   \n",
       "3                                        3           2   \n",
       "4                                        0           2   \n",
       "\n",
       "   saw-tooth appearance of retes  follicular horn plug  \\\n",
       "0                              0                     0   \n",
       "1                              2                     0   \n",
       "2                              0                     0   \n",
       "3                              3                     0   \n",
       "4                              0                     0   \n",
       "\n",
       "   perifollicular parakeratosis  inflammatory monoluclear inflitrate  \\\n",
       "0                             0                                    1   \n",
       "1                             0                                    2   \n",
       "2                             0                                    3   \n",
       "3                             0                                    2   \n",
       "4                             0                                    1   \n",
       "\n",
       "   band-like infiltrate  Age (linear)  Result  \n",
       "0                     0             8       1  \n",
       "1                     3            26       3  \n",
       "2                     0            40       1  \n",
       "3                     3            45       3  \n",
       "4                     0            41       2  \n",
       "\n",
       "[5 rows x 35 columns]"
      ]
     },
     "execution_count": 8,
     "metadata": {},
     "output_type": "execute_result"
    }
   ],
   "source": [
    "df.head()"
   ]
  },
  {
   "cell_type": "markdown",
   "metadata": {},
   "source": [
    "##### Data Cleaning"
   ]
  },
  {
   "cell_type": "code",
   "execution_count": 9,
   "metadata": {},
   "outputs": [
    {
     "data": {
      "text/plain": [
       "(365, 35)"
      ]
     },
     "execution_count": 9,
     "metadata": {},
     "output_type": "execute_result"
    }
   ],
   "source": [
    "# Print the shape of the DataFrame\n",
    "df.shape"
   ]
  },
  {
   "cell_type": "code",
   "execution_count": 10,
   "metadata": {},
   "outputs": [
    {
     "name": "stdout",
     "output_type": "stream",
     "text": [
      "erythema                                    0\n",
      "scaling                                     0\n",
      "definite borders                            0\n",
      "itching                                     0\n",
      "koebner phenomenon                          0\n",
      "polygonal papules                           0\n",
      "follicular papules                          0\n",
      "oral mucosal involvement                    0\n",
      "knee and elbow involvement                  0\n",
      "scalp involvement                           0\n",
      "family history                              0\n",
      "melanin incontinence                        0\n",
      "eosinophils in the infiltrate               0\n",
      "PNL infiltrate                              0\n",
      "fibrosis of the papillary dermis            0\n",
      "exocytosis                                  0\n",
      "acanthosis                                  0\n",
      "hyperkeratosis                              0\n",
      "parakeratosis                               0\n",
      "clubbing of the rete ridges                 0\n",
      "elongation of the rete ridges               0\n",
      "thinning of the suprapapillary epidermis    0\n",
      "spongiform pustule                          0\n",
      "munro microabcess                           0\n",
      "focal hypergranulosis                       0\n",
      "disappearance of the granular layer         0\n",
      "vacuolisation and damage of basal layer     0\n",
      "spongiosis                                  0\n",
      "saw-tooth appearance of retes               0\n",
      "follicular horn plug                        0\n",
      "perifollicular parakeratosis                0\n",
      "inflammatory monoluclear inflitrate         0\n",
      "band-like infiltrate                        0\n",
      "Age (linear)                                8\n",
      "Result                                      0\n",
      "dtype: int64\n"
     ]
    }
   ],
   "source": [
    "#Check the number of null in the dataset\n",
    "null_counts = df.apply(lambda x: sum(x == '?'), axis=0)\n",
    "print(null_counts)\n"
   ]
  },
  {
   "cell_type": "code",
   "execution_count": 11,
   "metadata": {},
   "outputs": [],
   "source": [
    "# Replace '?' with actual NaN values\n",
    "df.replace('?', pd.NA, inplace=True)\n",
    "\n",
    "# Get the columns with null values\n",
    "columns_with_null = null_counts[null_counts > 0].index.tolist()\n",
    "\n",
    "# Remove rows with null values\n",
    "df.dropna(subset=columns_with_null, inplace=True)\n",
    "\n",
    "# Reset the index after removing rows\n",
    "df.reset_index(drop=True, inplace=True)"
   ]
  },
  {
   "cell_type": "code",
   "execution_count": 12,
   "metadata": {},
   "outputs": [
    {
     "data": {
      "text/plain": [
       "erythema                                    0\n",
       "scaling                                     0\n",
       "definite borders                            0\n",
       "itching                                     0\n",
       "koebner phenomenon                          0\n",
       "polygonal papules                           0\n",
       "follicular papules                          0\n",
       "oral mucosal involvement                    0\n",
       "knee and elbow involvement                  0\n",
       "scalp involvement                           0\n",
       "family history                              0\n",
       "melanin incontinence                        0\n",
       "eosinophils in the infiltrate               0\n",
       "PNL infiltrate                              0\n",
       "fibrosis of the papillary dermis            0\n",
       "exocytosis                                  0\n",
       "acanthosis                                  0\n",
       "hyperkeratosis                              0\n",
       "parakeratosis                               0\n",
       "clubbing of the rete ridges                 0\n",
       "elongation of the rete ridges               0\n",
       "thinning of the suprapapillary epidermis    0\n",
       "spongiform pustule                          0\n",
       "munro microabcess                           0\n",
       "focal hypergranulosis                       0\n",
       "disappearance of the granular layer         0\n",
       "vacuolisation and damage of basal layer     0\n",
       "spongiosis                                  0\n",
       "saw-tooth appearance of retes               0\n",
       "follicular horn plug                        0\n",
       "perifollicular parakeratosis                0\n",
       "inflammatory monoluclear inflitrate         0\n",
       "band-like infiltrate                        0\n",
       "Age (linear)                                0\n",
       "Result                                      0\n",
       "dtype: int64"
      ]
     },
     "execution_count": 12,
     "metadata": {},
     "output_type": "execute_result"
    }
   ],
   "source": [
    "# Count the number of `?` values in each column\n",
    "df.apply(lambda x: sum(x == '?'), axis=0)"
   ]
  },
  {
   "cell_type": "code",
   "execution_count": 13,
   "metadata": {},
   "outputs": [
    {
     "data": {
      "text/plain": [
       "(357, 35)"
      ]
     },
     "execution_count": 13,
     "metadata": {},
     "output_type": "execute_result"
    }
   ],
   "source": [
    "# Check the new shape of the data\n",
    "df.shape"
   ]
  },
  {
   "cell_type": "markdown",
   "metadata": {},
   "source": [
    "##### Normalization"
   ]
  },
  {
   "cell_type": "code",
   "execution_count": 14,
   "metadata": {},
   "outputs": [
    {
     "name": "stdout",
     "output_type": "stream",
     "text": [
      "                                          count      mean       std  min  25%  \\\n",
      "erythema                                  357.0  2.078431  0.665785  0.0  2.0   \n",
      "scaling                                   357.0  1.806723  0.702451  0.0  1.0   \n",
      "definite borders                          357.0  1.574230  0.898318  0.0  1.0   \n",
      "itching                                   357.0  1.350140  1.133296  0.0  0.0   \n",
      "koebner phenomenon                        357.0  0.638655  0.909356  0.0  0.0   \n",
      "polygonal papules                         357.0  0.450980  0.957513  0.0  0.0   \n",
      "follicular papules                        357.0  0.170868  0.577132  0.0  0.0   \n",
      "oral mucosal involvement                  357.0  0.380952  0.838321  0.0  0.0   \n",
      "knee and elbow involvement                357.0  0.621849  0.991466  0.0  0.0   \n",
      "scalp involvement                         357.0  0.532213  0.913198  0.0  0.0   \n",
      "family history                            357.0  0.123249  0.329185  0.0  0.0   \n",
      "melanin incontinence                      357.0  0.411765  0.878057  0.0  0.0   \n",
      "eosinophils in the infiltrate             357.0  0.142857  0.416359  0.0  0.0   \n",
      "PNL infiltrate                            357.0  0.549020  0.814876  0.0  0.0   \n",
      "fibrosis of the papillary dermis          357.0  0.316527  0.829973  0.0  0.0   \n",
      "exocytosis                                357.0  1.364146  1.110042  0.0  0.0   \n",
      "acanthosis                                357.0  1.955182  0.701689  0.0  2.0   \n",
      "hyperkeratosis                            357.0  0.512605  0.755492  0.0  0.0   \n",
      "parakeratosis                             357.0  1.291317  0.920587  0.0  1.0   \n",
      "clubbing of the rete ridges               357.0  0.663866  1.062200  0.0  0.0   \n",
      "elongation of the rete ridges             357.0  0.985994  1.159875  0.0  0.0   \n",
      "thinning of the suprapapillary epidermis  357.0  0.644258  1.041041  0.0  0.0   \n",
      "spongiform pustule                        357.0  0.299720  0.676512  0.0  0.0   \n",
      "munro microabcess                         357.0  0.369748  0.766565  0.0  0.0   \n",
      "focal hypergranulosis                     357.0  0.400560  0.857420  0.0  0.0   \n",
      "disappearance of the granular layer       357.0  0.476190  0.872565  0.0  0.0   \n",
      "vacuolisation and damage of basal layer   357.0  0.462185  0.960950  0.0  0.0   \n",
      "spongiosis                                357.0  0.943978  1.125396  0.0  0.0   \n",
      "saw-tooth appearance of retes             357.0  0.459384  0.960836  0.0  0.0   \n",
      "follicular horn plug                      357.0  0.106443  0.455784  0.0  0.0   \n",
      "perifollicular parakeratosis              357.0  0.117647  0.494517  0.0  0.0   \n",
      "inflammatory monoluclear inflitrate       357.0  1.879552  0.698756  0.0  1.0   \n",
      "band-like infiltrate                      357.0  0.560224  1.109149  0.0  0.0   \n",
      "Result                                    357.0  2.784314  1.595633  1.0  1.0   \n",
      "\n",
      "                                          50%  75%  max  \n",
      "erythema                                  2.0  3.0  3.0  \n",
      "scaling                                   2.0  2.0  3.0  \n",
      "definite borders                          2.0  2.0  3.0  \n",
      "itching                                   1.0  2.0  3.0  \n",
      "koebner phenomenon                        0.0  1.0  3.0  \n",
      "polygonal papules                         0.0  0.0  3.0  \n",
      "follicular papules                        0.0  0.0  3.0  \n",
      "oral mucosal involvement                  0.0  0.0  3.0  \n",
      "knee and elbow involvement                0.0  1.0  3.0  \n",
      "scalp involvement                         0.0  1.0  3.0  \n",
      "family history                            0.0  0.0  1.0  \n",
      "melanin incontinence                      0.0  0.0  3.0  \n",
      "eosinophils in the infiltrate             0.0  0.0  2.0  \n",
      "PNL infiltrate                            0.0  1.0  3.0  \n",
      "fibrosis of the papillary dermis          0.0  0.0  3.0  \n",
      "exocytosis                                2.0  2.0  3.0  \n",
      "acanthosis                                2.0  2.0  3.0  \n",
      "hyperkeratosis                            0.0  1.0  3.0  \n",
      "parakeratosis                             1.0  2.0  3.0  \n",
      "clubbing of the rete ridges               0.0  2.0  3.0  \n",
      "elongation of the rete ridges             0.0  2.0  3.0  \n",
      "thinning of the suprapapillary epidermis  0.0  2.0  3.0  \n",
      "spongiform pustule                        0.0  0.0  3.0  \n",
      "munro microabcess                         0.0  0.0  3.0  \n",
      "focal hypergranulosis                     0.0  0.0  3.0  \n",
      "disappearance of the granular layer       0.0  1.0  3.0  \n",
      "vacuolisation and damage of basal layer   0.0  0.0  3.0  \n",
      "spongiosis                                0.0  2.0  3.0  \n",
      "saw-tooth appearance of retes             0.0  0.0  3.0  \n",
      "follicular horn plug                      0.0  0.0  3.0  \n",
      "perifollicular parakeratosis              0.0  0.0  3.0  \n",
      "inflammatory monoluclear inflitrate       2.0  2.0  3.0  \n",
      "band-like infiltrate                      0.0  0.0  3.0  \n",
      "Result                                    3.0  4.0  6.0  \n"
     ]
    }
   ],
   "source": [
    "# Calculate descriptive statistics for each column and transpose the result\n",
    "description = df.describe().transpose()\n",
    "\n",
    "# Display the complete description\n",
    "with pd.option_context('display.max_rows', None, 'display.max_columns', None):\n",
    "    print(description)"
   ]
  },
  {
   "cell_type": "code",
   "execution_count": 15,
   "metadata": {},
   "outputs": [
    {
     "data": {
      "text/plain": [
       "array([[1.        , 1.        , 1.        , ..., 0.        , 0.10666667,\n",
       "        0.        ],\n",
       "       [0.66666667, 0.33333333, 0.66666667, ..., 1.        , 0.34666667,\n",
       "        0.4       ],\n",
       "       [0.66666667, 0.66666667, 0.66666667, ..., 0.        , 0.53333333,\n",
       "        0.        ],\n",
       "       ...,\n",
       "       [1.        , 0.66666667, 0.66666667, ..., 1.        , 0.37333333,\n",
       "        0.4       ],\n",
       "       [0.66666667, 0.33333333, 1.        , ..., 1.        , 0.66666667,\n",
       "        0.4       ],\n",
       "       [1.        , 0.66666667, 0.66666667, ..., 0.        , 0.46666667,\n",
       "        0.        ]])"
      ]
     },
     "execution_count": 15,
     "metadata": {},
     "output_type": "execute_result"
    }
   ],
   "source": [
    "# Import the MinMaxScaler class for feature scaling\n",
    "from sklearn.preprocessing import MinMaxScaler\n",
    "\n",
    "# Create an instance of MinMaxScaler\n",
    "scaler = MinMaxScaler()\n",
    "\n",
    "# Fit and transform the data\n",
    "X_normalization = scaler.fit_transform(df)\n",
    "\n",
    "X_normalization"
   ]
  },
  {
   "cell_type": "code",
   "execution_count": 16,
   "metadata": {},
   "outputs": [
    {
     "data": {
      "text/plain": [
       "array([[ 1.38612659,  1.70111735,  1.58938378, ..., -0.50580259,\n",
       "        -1.84690329, -1.11981751],\n",
       "       [-0.11796822, -1.15005116,  0.47462934, ...,  2.2027703 ,\n",
       "        -0.66985276,  0.13536256],\n",
       "       [-0.11796822,  0.27553309,  0.47462934, ..., -0.50580259,\n",
       "         0.24563099, -1.11981751],\n",
       "       ...,\n",
       "       [ 1.38612659,  0.27553309,  0.47462934, ...,  2.2027703 ,\n",
       "        -0.53906936,  0.13536256],\n",
       "       [-0.11796822, -1.15005116,  1.58938378, ...,  2.2027703 ,\n",
       "         0.89954796,  0.13536256],\n",
       "       [ 1.38612659,  0.27553309,  0.47462934, ..., -0.50580259,\n",
       "        -0.08132749, -1.11981751]])"
      ]
     },
     "execution_count": 16,
     "metadata": {},
     "output_type": "execute_result"
    }
   ],
   "source": [
    "# Import the StandardScaler class for feature scaling\n",
    "from sklearn.preprocessing import StandardScaler\n",
    "\n",
    "# Create an instance of StandardScaler\n",
    "scaler = StandardScaler()\n",
    "\n",
    "# Fit and transform the data\n",
    "z_score_standardization = scaler.fit_transform(df)\n",
    "\n",
    "z_score_standardization"
   ]
  },
  {
   "cell_type": "markdown",
   "metadata": {},
   "source": [
    "#### Split the dataset\n",
    "Split the dataset into training, validation and test sets."
   ]
  },
  {
   "cell_type": "code",
   "execution_count": 17,
   "metadata": {},
   "outputs": [],
   "source": [
    "# Extract the response & feature variable \n",
    "response = df.columns[-1]\n",
    "X = df.drop([response], axis = 1)\n",
    "Y = df[response]"
   ]
  },
  {
   "cell_type": "code",
   "execution_count": 18,
   "metadata": {},
   "outputs": [],
   "source": [
    "# library that splits arrays or matrices into random subsets for train and test data\n",
    "from sklearn.model_selection import train_test_split\n",
    "\n",
    "# Split the data into training and testing sets\n",
    "X_train, X_test, Y_train, Y_test = train_test_split(X, Y, test_size = 0.2, random_state = 5)"
   ]
  },
  {
   "cell_type": "code",
   "execution_count": 19,
   "metadata": {},
   "outputs": [],
   "source": [
    "# Split the X_train and Y_train datasets into training and validation sets\n",
    "X_train, X_val, Y_train, Y_val = train_test_split(X_train, Y_train, test_size = 0.2, random_state = 5)"
   ]
  },
  {
   "cell_type": "code",
   "execution_count": 20,
   "metadata": {},
   "outputs": [
    {
     "name": "stdout",
     "output_type": "stream",
     "text": [
      "(357, 34)\n",
      "(228, 34)\n",
      "(72, 34)\n",
      "(57, 34)\n"
     ]
    }
   ],
   "source": [
    "# display the overall shape for each dataset\n",
    "print(X.shape)\n",
    "print(X_train.shape)\n",
    "print(X_test.shape)\n",
    "print(X_val.shape)"
   ]
  },
  {
   "cell_type": "code",
   "execution_count": 21,
   "metadata": {},
   "outputs": [
    {
     "data": {
      "text/html": [
       "<div>\n",
       "<style scoped>\n",
       "    .dataframe tbody tr th:only-of-type {\n",
       "        vertical-align: middle;\n",
       "    }\n",
       "\n",
       "    .dataframe tbody tr th {\n",
       "        vertical-align: top;\n",
       "    }\n",
       "\n",
       "    .dataframe thead th {\n",
       "        text-align: right;\n",
       "    }\n",
       "</style>\n",
       "<table border=\"1\" class=\"dataframe\">\n",
       "  <thead>\n",
       "    <tr style=\"text-align: right;\">\n",
       "      <th></th>\n",
       "      <th>erythema</th>\n",
       "      <th>scaling</th>\n",
       "      <th>definite borders</th>\n",
       "      <th>itching</th>\n",
       "      <th>koebner phenomenon</th>\n",
       "      <th>polygonal papules</th>\n",
       "      <th>follicular papules</th>\n",
       "      <th>oral mucosal involvement</th>\n",
       "      <th>knee and elbow involvement</th>\n",
       "      <th>scalp involvement</th>\n",
       "      <th>...</th>\n",
       "      <th>focal hypergranulosis</th>\n",
       "      <th>disappearance of the granular layer</th>\n",
       "      <th>vacuolisation and damage of basal layer</th>\n",
       "      <th>spongiosis</th>\n",
       "      <th>saw-tooth appearance of retes</th>\n",
       "      <th>follicular horn plug</th>\n",
       "      <th>perifollicular parakeratosis</th>\n",
       "      <th>inflammatory monoluclear inflitrate</th>\n",
       "      <th>band-like infiltrate</th>\n",
       "      <th>Age (linear)</th>\n",
       "    </tr>\n",
       "  </thead>\n",
       "  <tbody>\n",
       "    <tr>\n",
       "      <th>259</th>\n",
       "      <td>2</td>\n",
       "      <td>2</td>\n",
       "      <td>1</td>\n",
       "      <td>1</td>\n",
       "      <td>0</td>\n",
       "      <td>0</td>\n",
       "      <td>2</td>\n",
       "      <td>0</td>\n",
       "      <td>0</td>\n",
       "      <td>0</td>\n",
       "      <td>...</td>\n",
       "      <td>0</td>\n",
       "      <td>0</td>\n",
       "      <td>0</td>\n",
       "      <td>2</td>\n",
       "      <td>0</td>\n",
       "      <td>1</td>\n",
       "      <td>2</td>\n",
       "      <td>2</td>\n",
       "      <td>0</td>\n",
       "      <td>8</td>\n",
       "    </tr>\n",
       "    <tr>\n",
       "      <th>294</th>\n",
       "      <td>2</td>\n",
       "      <td>1</td>\n",
       "      <td>2</td>\n",
       "      <td>0</td>\n",
       "      <td>1</td>\n",
       "      <td>0</td>\n",
       "      <td>0</td>\n",
       "      <td>0</td>\n",
       "      <td>0</td>\n",
       "      <td>0</td>\n",
       "      <td>...</td>\n",
       "      <td>0</td>\n",
       "      <td>0</td>\n",
       "      <td>0</td>\n",
       "      <td>2</td>\n",
       "      <td>0</td>\n",
       "      <td>0</td>\n",
       "      <td>0</td>\n",
       "      <td>2</td>\n",
       "      <td>0</td>\n",
       "      <td>34</td>\n",
       "    </tr>\n",
       "    <tr>\n",
       "      <th>116</th>\n",
       "      <td>2</td>\n",
       "      <td>2</td>\n",
       "      <td>2</td>\n",
       "      <td>1</td>\n",
       "      <td>0</td>\n",
       "      <td>0</td>\n",
       "      <td>2</td>\n",
       "      <td>0</td>\n",
       "      <td>0</td>\n",
       "      <td>0</td>\n",
       "      <td>...</td>\n",
       "      <td>0</td>\n",
       "      <td>0</td>\n",
       "      <td>0</td>\n",
       "      <td>0</td>\n",
       "      <td>0</td>\n",
       "      <td>0</td>\n",
       "      <td>0</td>\n",
       "      <td>2</td>\n",
       "      <td>0</td>\n",
       "      <td>46</td>\n",
       "    </tr>\n",
       "    <tr>\n",
       "      <th>135</th>\n",
       "      <td>2</td>\n",
       "      <td>2</td>\n",
       "      <td>1</td>\n",
       "      <td>2</td>\n",
       "      <td>2</td>\n",
       "      <td>0</td>\n",
       "      <td>0</td>\n",
       "      <td>0</td>\n",
       "      <td>0</td>\n",
       "      <td>0</td>\n",
       "      <td>...</td>\n",
       "      <td>0</td>\n",
       "      <td>0</td>\n",
       "      <td>0</td>\n",
       "      <td>2</td>\n",
       "      <td>0</td>\n",
       "      <td>0</td>\n",
       "      <td>0</td>\n",
       "      <td>2</td>\n",
       "      <td>0</td>\n",
       "      <td>20</td>\n",
       "    </tr>\n",
       "    <tr>\n",
       "      <th>25</th>\n",
       "      <td>1</td>\n",
       "      <td>1</td>\n",
       "      <td>0</td>\n",
       "      <td>1</td>\n",
       "      <td>0</td>\n",
       "      <td>0</td>\n",
       "      <td>3</td>\n",
       "      <td>0</td>\n",
       "      <td>1</td>\n",
       "      <td>0</td>\n",
       "      <td>...</td>\n",
       "      <td>1</td>\n",
       "      <td>0</td>\n",
       "      <td>0</td>\n",
       "      <td>1</td>\n",
       "      <td>0</td>\n",
       "      <td>2</td>\n",
       "      <td>2</td>\n",
       "      <td>1</td>\n",
       "      <td>0</td>\n",
       "      <td>10</td>\n",
       "    </tr>\n",
       "  </tbody>\n",
       "</table>\n",
       "<p>5 rows × 34 columns</p>\n",
       "</div>"
      ],
      "text/plain": [
       "     erythema  scaling  definite borders  itching  koebner phenomenon  \\\n",
       "259         2        2                 1        1                   0   \n",
       "294         2        1                 2        0                   1   \n",
       "116         2        2                 2        1                   0   \n",
       "135         2        2                 1        2                   2   \n",
       "25          1        1                 0        1                   0   \n",
       "\n",
       "     polygonal papules  follicular papules  oral mucosal involvement  \\\n",
       "259                  0                   2                         0   \n",
       "294                  0                   0                         0   \n",
       "116                  0                   2                         0   \n",
       "135                  0                   0                         0   \n",
       "25                   0                   3                         0   \n",
       "\n",
       "     knee and elbow involvement  scalp involvement  ...  \\\n",
       "259                           0                  0  ...   \n",
       "294                           0                  0  ...   \n",
       "116                           0                  0  ...   \n",
       "135                           0                  0  ...   \n",
       "25                            1                  0  ...   \n",
       "\n",
       "     focal hypergranulosis  disappearance of the granular layer  \\\n",
       "259                      0                                    0   \n",
       "294                      0                                    0   \n",
       "116                      0                                    0   \n",
       "135                      0                                    0   \n",
       "25                       1                                    0   \n",
       "\n",
       "     vacuolisation and damage of basal layer  spongiosis  \\\n",
       "259                                        0           2   \n",
       "294                                        0           2   \n",
       "116                                        0           0   \n",
       "135                                        0           2   \n",
       "25                                         0           1   \n",
       "\n",
       "     saw-tooth appearance of retes  follicular horn plug  \\\n",
       "259                              0                     1   \n",
       "294                              0                     0   \n",
       "116                              0                     0   \n",
       "135                              0                     0   \n",
       "25                               0                     2   \n",
       "\n",
       "     perifollicular parakeratosis  inflammatory monoluclear inflitrate  \\\n",
       "259                             2                                    2   \n",
       "294                             0                                    2   \n",
       "116                             0                                    2   \n",
       "135                             0                                    2   \n",
       "25                              2                                    1   \n",
       "\n",
       "     band-like infiltrate  Age (linear)  \n",
       "259                     0             8  \n",
       "294                     0            34  \n",
       "116                     0            46  \n",
       "135                     0            20  \n",
       "25                      0            10  \n",
       "\n",
       "[5 rows x 34 columns]"
      ]
     },
     "execution_count": 21,
     "metadata": {},
     "output_type": "execute_result"
    }
   ],
   "source": [
    "# Recheck the updated \n",
    "X_train.head()"
   ]
  },
  {
   "cell_type": "markdown",
   "metadata": {},
   "source": [
    "## Feature Selection\n",
    "Perform feature selection to select the relevant features.\n",
    "______________________________________________________________________________________\n",
    "Description: In this part, features were filtered and chosen to enhance predictive model performance. "
   ]
  },
  {
   "cell_type": "code",
   "execution_count": 22,
   "metadata": {},
   "outputs": [],
   "source": [
    "# All discrete features should now have integer dtypes (double-check this before using MI!)\n",
    "discrete_features = X.dtypes == int"
   ]
  },
  {
   "cell_type": "code",
   "execution_count": 23,
   "metadata": {},
   "outputs": [
    {
     "data": {
      "text/plain": [
       "clubbing of the rete ridges                 0.573651\n",
       "elongation of the rete ridges               0.533586\n",
       "band-like infiltrate                        0.499405\n",
       "saw-tooth appearance of retes               0.482783\n",
       "thinning of the suprapapillary epidermis    0.464930\n",
       "melanin incontinence                        0.450779\n",
       "exocytosis                                  0.439806\n",
       "polygonal papules                           0.435237\n",
       "focal hypergranulosis                       0.427140\n",
       "vacuolisation and damage of basal layer     0.419655\n",
       "spongiosis                                  0.416186\n",
       "knee and elbow involvement                  0.410474\n",
       "oral mucosal involvement                    0.391403\n",
       "fibrosis of the papillary dermis            0.354568\n",
       "scalp involvement                           0.327357\n",
       "munro microabcess                           0.309063\n",
       "disappearance of the granular layer         0.280597\n",
       "PNL infiltrate                              0.270168\n",
       "definite borders                            0.251997\n",
       "koebner phenomenon                          0.247755\n",
       "follicular papules                          0.232627\n",
       "parakeratosis                               0.204851\n",
       "scaling                                     0.199311\n",
       "perifollicular parakeratosis                0.182192\n",
       "itching                                     0.179096\n",
       "follicular horn plug                        0.166646\n",
       "Age (linear)                                0.158107\n",
       "family history                              0.149908\n",
       "spongiform pustule                          0.138220\n",
       "hyperkeratosis                              0.114779\n",
       "eosinophils in the infiltrate               0.112059\n",
       "inflammatory monoluclear inflitrate         0.081123\n",
       "acanthosis                                  0.070672\n",
       "erythema                                    0.039452\n",
       "Name: MI Scores, dtype: float64"
      ]
     },
     "execution_count": 23,
     "metadata": {},
     "output_type": "execute_result"
    }
   ],
   "source": [
    "# Import the mutual_info_classif function for feature selection based on mutual information\n",
    "\n",
    "from sklearn.feature_selection import mutual_info_classif\n",
    "\n",
    "# Define a function to calculate mutual information scores\n",
    "# by calculating the mutual information scores, then create a series of MI scores and sort in descending order\n",
    "def make_mi_scores(X, Y, discrete_features):\n",
    "    mi_scores = mutual_info_classif(X, Y, discrete_features=discrete_features)\n",
    "    mi_scores = pd.Series(mi_scores, name=\"MI Scores\", index=X.columns)\n",
    "    mi_scores = mi_scores.sort_values(ascending=False)\n",
    "    return mi_scores\n",
    "\n",
    "# Perform feature selection with MI score\n",
    "mi_scores = make_mi_scores(X, Y, discrete_features)\n",
    "mi_scores"
   ]
  },
  {
   "cell_type": "code",
   "execution_count": 24,
   "metadata": {},
   "outputs": [],
   "source": [
    "# Getting the top 10, 20, 30 features based on the highest MI score\n",
    "top_10_features = mi_scores.head(10).index.tolist()\n",
    "top_20_features = mi_scores.head(20).index.tolist()\n",
    "top_30_features = mi_scores.head(30).index.tolist()"
   ]
  },
  {
   "cell_type": "code",
   "execution_count": 25,
   "metadata": {},
   "outputs": [],
   "source": [
    "# Creating a new dataframe with 10, 20, 30 features\n",
    "X_10_features = df[top_10_features]\n",
    "X_20_features = df[top_20_features]\n",
    "X_30_features = df[top_30_features]"
   ]
  },
  {
   "cell_type": "markdown",
   "metadata": {},
   "source": [
    "##### Modelling with 10 features"
   ]
  },
  {
   "cell_type": "code",
   "execution_count": 26,
   "metadata": {},
   "outputs": [],
   "source": [
    "# Split the data into training and testing sets for the top 10 features\n",
    "X_train_10, X_test_10, Y_train_10, Y_test_10 = train_test_split(X_10_features, Y, test_size = 0.2, random_state = 5)"
   ]
  },
  {
   "cell_type": "code",
   "execution_count": 27,
   "metadata": {},
   "outputs": [],
   "source": [
    "# Split the X_train_10 and Y_train_10 datasets into training and validation sets\n",
    "X_train_10, X_val_10, Y_train_10, Y_val_10 = train_test_split(X_train_10, Y_train_10, test_size = 0.2, random_state = 5)"
   ]
  },
  {
   "cell_type": "code",
   "execution_count": 28,
   "metadata": {},
   "outputs": [],
   "source": [
    "# Import the SMOTE class from the imblearn.over_sampling module\n",
    "from imblearn.over_sampling import SMOTE\n",
    "\n",
    "# Create SMOTE insstance & apply SMOTE reseampling to training data\n",
    "smote = SMOTE(random_state=42)\n",
    "X_train_resampled, Y_train_resampled = smote.fit_resample(X_train_10, Y_train_10)"
   ]
  },
  {
   "cell_type": "code",
   "execution_count": 29,
   "metadata": {},
   "outputs": [
    {
     "data": {
      "text/html": [
       "<style>#sk-container-id-1 {color: black;background-color: white;}#sk-container-id-1 pre{padding: 0;}#sk-container-id-1 div.sk-toggleable {background-color: white;}#sk-container-id-1 label.sk-toggleable__label {cursor: pointer;display: block;width: 100%;margin-bottom: 0;padding: 0.3em;box-sizing: border-box;text-align: center;}#sk-container-id-1 label.sk-toggleable__label-arrow:before {content: \"▸\";float: left;margin-right: 0.25em;color: #696969;}#sk-container-id-1 label.sk-toggleable__label-arrow:hover:before {color: black;}#sk-container-id-1 div.sk-estimator:hover label.sk-toggleable__label-arrow:before {color: black;}#sk-container-id-1 div.sk-toggleable__content {max-height: 0;max-width: 0;overflow: hidden;text-align: left;background-color: #f0f8ff;}#sk-container-id-1 div.sk-toggleable__content pre {margin: 0.2em;color: black;border-radius: 0.25em;background-color: #f0f8ff;}#sk-container-id-1 input.sk-toggleable__control:checked~div.sk-toggleable__content {max-height: 200px;max-width: 100%;overflow: auto;}#sk-container-id-1 input.sk-toggleable__control:checked~label.sk-toggleable__label-arrow:before {content: \"▾\";}#sk-container-id-1 div.sk-estimator input.sk-toggleable__control:checked~label.sk-toggleable__label {background-color: #d4ebff;}#sk-container-id-1 div.sk-label input.sk-toggleable__control:checked~label.sk-toggleable__label {background-color: #d4ebff;}#sk-container-id-1 input.sk-hidden--visually {border: 0;clip: rect(1px 1px 1px 1px);clip: rect(1px, 1px, 1px, 1px);height: 1px;margin: -1px;overflow: hidden;padding: 0;position: absolute;width: 1px;}#sk-container-id-1 div.sk-estimator {font-family: monospace;background-color: #f0f8ff;border: 1px dotted black;border-radius: 0.25em;box-sizing: border-box;margin-bottom: 0.5em;}#sk-container-id-1 div.sk-estimator:hover {background-color: #d4ebff;}#sk-container-id-1 div.sk-parallel-item::after {content: \"\";width: 100%;border-bottom: 1px solid gray;flex-grow: 1;}#sk-container-id-1 div.sk-label:hover label.sk-toggleable__label {background-color: #d4ebff;}#sk-container-id-1 div.sk-serial::before {content: \"\";position: absolute;border-left: 1px solid gray;box-sizing: border-box;top: 0;bottom: 0;left: 50%;z-index: 0;}#sk-container-id-1 div.sk-serial {display: flex;flex-direction: column;align-items: center;background-color: white;padding-right: 0.2em;padding-left: 0.2em;position: relative;}#sk-container-id-1 div.sk-item {position: relative;z-index: 1;}#sk-container-id-1 div.sk-parallel {display: flex;align-items: stretch;justify-content: center;background-color: white;position: relative;}#sk-container-id-1 div.sk-item::before, #sk-container-id-1 div.sk-parallel-item::before {content: \"\";position: absolute;border-left: 1px solid gray;box-sizing: border-box;top: 0;bottom: 0;left: 50%;z-index: -1;}#sk-container-id-1 div.sk-parallel-item {display: flex;flex-direction: column;z-index: 1;position: relative;background-color: white;}#sk-container-id-1 div.sk-parallel-item:first-child::after {align-self: flex-end;width: 50%;}#sk-container-id-1 div.sk-parallel-item:last-child::after {align-self: flex-start;width: 50%;}#sk-container-id-1 div.sk-parallel-item:only-child::after {width: 0;}#sk-container-id-1 div.sk-dashed-wrapped {border: 1px dashed gray;margin: 0 0.4em 0.5em 0.4em;box-sizing: border-box;padding-bottom: 0.4em;background-color: white;}#sk-container-id-1 div.sk-label label {font-family: monospace;font-weight: bold;display: inline-block;line-height: 1.2em;}#sk-container-id-1 div.sk-label-container {text-align: center;}#sk-container-id-1 div.sk-container {/* jupyter's `normalize.less` sets `[hidden] { display: none; }` but bootstrap.min.css set `[hidden] { display: none !important; }` so we also need the `!important` here to be able to override the default hidden behavior on the sphinx rendered scikit-learn.org. See: https://github.com/scikit-learn/scikit-learn/issues/21755 */display: inline-block !important;position: relative;}#sk-container-id-1 div.sk-text-repr-fallback {display: none;}</style><div id=\"sk-container-id-1\" class=\"sk-top-container\"><div class=\"sk-text-repr-fallback\"><pre>RandomForestClassifier()</pre><b>In a Jupyter environment, please rerun this cell to show the HTML representation or trust the notebook. <br />On GitHub, the HTML representation is unable to render, please try loading this page with nbviewer.org.</b></div><div class=\"sk-container\" hidden><div class=\"sk-item\"><div class=\"sk-estimator sk-toggleable\"><input class=\"sk-toggleable__control sk-hidden--visually\" id=\"sk-estimator-id-1\" type=\"checkbox\" checked><label for=\"sk-estimator-id-1\" class=\"sk-toggleable__label sk-toggleable__label-arrow\">RandomForestClassifier</label><div class=\"sk-toggleable__content\"><pre>RandomForestClassifier()</pre></div></div></div></div></div>"
      ],
      "text/plain": [
       "RandomForestClassifier()"
      ]
     },
     "execution_count": 29,
     "metadata": {},
     "output_type": "execute_result"
    }
   ],
   "source": [
    "# Import the RandomForestClassifier class from the sklearn.ensemble module\n",
    "from sklearn.ensemble import RandomForestClassifier\n",
    "\n",
    "# Fitting a RandomForestClassifier model to the training data\n",
    "model = RandomForestClassifier()\n",
    "model.fit(X_train_10, Y_train_10)"
   ]
  },
  {
   "cell_type": "code",
   "execution_count": 30,
   "metadata": {},
   "outputs": [
    {
     "name": "stdout",
     "output_type": "stream",
     "text": [
      "Classification Report: \n",
      "               precision    recall  f1-score   support\n",
      "\n",
      "           1       0.97      0.97      0.97        73\n",
      "           2       0.46      0.65      0.54        40\n",
      "           3       1.00      1.00      1.00        49\n",
      "           4       0.33      0.21      0.26        28\n",
      "           5       0.80      0.86      0.83        28\n",
      "           6       0.50      0.10      0.17        10\n",
      "\n",
      "    accuracy                           0.78       228\n",
      "   macro avg       0.68      0.63      0.63       228\n",
      "weighted avg       0.77      0.78      0.76       228\n",
      "\n"
     ]
    }
   ],
   "source": [
    "# Import the classification_report function from the sklearn.metrics module\n",
    "from sklearn.metrics import classification_report\n",
    "\n",
    "# Import the cross_val_predict function from the sklearn.model_selection module\n",
    "from sklearn.model_selection import cross_val_predict\n",
    "\n",
    "# Perform crosee-validated predictions \n",
    "predict = cross_val_predict(estimator = model, X = X_train_10, y = Y_train_10, cv = 5)\n",
    "print(\"Classification Report: \\n\", classification_report(Y_train_10, predict))"
   ]
  },
  {
   "cell_type": "code",
   "execution_count": 31,
   "metadata": {},
   "outputs": [
    {
     "name": "stdout",
     "output_type": "stream",
     "text": [
      "              precision    recall  f1-score   support\n",
      "\n",
      "           1       0.90      1.00      0.95        19\n",
      "           2       0.43      0.27      0.33        11\n",
      "           3       0.91      1.00      0.95        10\n",
      "           4       0.47      0.62      0.53        13\n",
      "           5       0.81      0.93      0.87        14\n",
      "           6       0.00      0.00      0.00         5\n",
      "\n",
      "    accuracy                           0.74        72\n",
      "   macro avg       0.59      0.64      0.61        72\n",
      "weighted avg       0.67      0.74      0.70        72\n",
      "\n"
     ]
    }
   ],
   "source": [
    "# Make predictions on the test data\n",
    "Y_pred_10 = model.predict(X_test_10)\n",
    "\n",
    "# Generate the classification report\n",
    "report = classification_report(Y_test_10, Y_pred_10)\n",
    "print(report)"
   ]
  },
  {
   "cell_type": "markdown",
   "metadata": {},
   "source": [
    "##### Modelling with 20 features"
   ]
  },
  {
   "cell_type": "code",
   "execution_count": 32,
   "metadata": {},
   "outputs": [],
   "source": [
    "# Split the data into training and testing sets for the top 20 features\n",
    "X_train_20, X_test_20, Y_train_20, Y_test_20 = train_test_split(X_20_features, Y, test_size = 0.2, random_state = 5)"
   ]
  },
  {
   "cell_type": "code",
   "execution_count": 33,
   "metadata": {},
   "outputs": [],
   "source": [
    "#?\n",
    "X_train_20, X_val_20, Y_train_20, Y_val_20 = train_test_split(X_train_20, Y_train_20, test_size = 0.2, random_state = 5)"
   ]
  },
  {
   "cell_type": "code",
   "execution_count": 34,
   "metadata": {},
   "outputs": [],
   "source": [
    "# Apply SMOTE to balance the training data\n",
    "X_train_resampled, Y_train_resampled = smote.fit_resample(X_train_20, Y_train_20)"
   ]
  },
  {
   "cell_type": "code",
   "execution_count": 35,
   "metadata": {},
   "outputs": [
    {
     "data": {
      "text/html": [
       "<style>#sk-container-id-2 {color: black;background-color: white;}#sk-container-id-2 pre{padding: 0;}#sk-container-id-2 div.sk-toggleable {background-color: white;}#sk-container-id-2 label.sk-toggleable__label {cursor: pointer;display: block;width: 100%;margin-bottom: 0;padding: 0.3em;box-sizing: border-box;text-align: center;}#sk-container-id-2 label.sk-toggleable__label-arrow:before {content: \"▸\";float: left;margin-right: 0.25em;color: #696969;}#sk-container-id-2 label.sk-toggleable__label-arrow:hover:before {color: black;}#sk-container-id-2 div.sk-estimator:hover label.sk-toggleable__label-arrow:before {color: black;}#sk-container-id-2 div.sk-toggleable__content {max-height: 0;max-width: 0;overflow: hidden;text-align: left;background-color: #f0f8ff;}#sk-container-id-2 div.sk-toggleable__content pre {margin: 0.2em;color: black;border-radius: 0.25em;background-color: #f0f8ff;}#sk-container-id-2 input.sk-toggleable__control:checked~div.sk-toggleable__content {max-height: 200px;max-width: 100%;overflow: auto;}#sk-container-id-2 input.sk-toggleable__control:checked~label.sk-toggleable__label-arrow:before {content: \"▾\";}#sk-container-id-2 div.sk-estimator input.sk-toggleable__control:checked~label.sk-toggleable__label {background-color: #d4ebff;}#sk-container-id-2 div.sk-label input.sk-toggleable__control:checked~label.sk-toggleable__label {background-color: #d4ebff;}#sk-container-id-2 input.sk-hidden--visually {border: 0;clip: rect(1px 1px 1px 1px);clip: rect(1px, 1px, 1px, 1px);height: 1px;margin: -1px;overflow: hidden;padding: 0;position: absolute;width: 1px;}#sk-container-id-2 div.sk-estimator {font-family: monospace;background-color: #f0f8ff;border: 1px dotted black;border-radius: 0.25em;box-sizing: border-box;margin-bottom: 0.5em;}#sk-container-id-2 div.sk-estimator:hover {background-color: #d4ebff;}#sk-container-id-2 div.sk-parallel-item::after {content: \"\";width: 100%;border-bottom: 1px solid gray;flex-grow: 1;}#sk-container-id-2 div.sk-label:hover label.sk-toggleable__label {background-color: #d4ebff;}#sk-container-id-2 div.sk-serial::before {content: \"\";position: absolute;border-left: 1px solid gray;box-sizing: border-box;top: 0;bottom: 0;left: 50%;z-index: 0;}#sk-container-id-2 div.sk-serial {display: flex;flex-direction: column;align-items: center;background-color: white;padding-right: 0.2em;padding-left: 0.2em;position: relative;}#sk-container-id-2 div.sk-item {position: relative;z-index: 1;}#sk-container-id-2 div.sk-parallel {display: flex;align-items: stretch;justify-content: center;background-color: white;position: relative;}#sk-container-id-2 div.sk-item::before, #sk-container-id-2 div.sk-parallel-item::before {content: \"\";position: absolute;border-left: 1px solid gray;box-sizing: border-box;top: 0;bottom: 0;left: 50%;z-index: -1;}#sk-container-id-2 div.sk-parallel-item {display: flex;flex-direction: column;z-index: 1;position: relative;background-color: white;}#sk-container-id-2 div.sk-parallel-item:first-child::after {align-self: flex-end;width: 50%;}#sk-container-id-2 div.sk-parallel-item:last-child::after {align-self: flex-start;width: 50%;}#sk-container-id-2 div.sk-parallel-item:only-child::after {width: 0;}#sk-container-id-2 div.sk-dashed-wrapped {border: 1px dashed gray;margin: 0 0.4em 0.5em 0.4em;box-sizing: border-box;padding-bottom: 0.4em;background-color: white;}#sk-container-id-2 div.sk-label label {font-family: monospace;font-weight: bold;display: inline-block;line-height: 1.2em;}#sk-container-id-2 div.sk-label-container {text-align: center;}#sk-container-id-2 div.sk-container {/* jupyter's `normalize.less` sets `[hidden] { display: none; }` but bootstrap.min.css set `[hidden] { display: none !important; }` so we also need the `!important` here to be able to override the default hidden behavior on the sphinx rendered scikit-learn.org. See: https://github.com/scikit-learn/scikit-learn/issues/21755 */display: inline-block !important;position: relative;}#sk-container-id-2 div.sk-text-repr-fallback {display: none;}</style><div id=\"sk-container-id-2\" class=\"sk-top-container\"><div class=\"sk-text-repr-fallback\"><pre>RandomForestClassifier()</pre><b>In a Jupyter environment, please rerun this cell to show the HTML representation or trust the notebook. <br />On GitHub, the HTML representation is unable to render, please try loading this page with nbviewer.org.</b></div><div class=\"sk-container\" hidden><div class=\"sk-item\"><div class=\"sk-estimator sk-toggleable\"><input class=\"sk-toggleable__control sk-hidden--visually\" id=\"sk-estimator-id-2\" type=\"checkbox\" checked><label for=\"sk-estimator-id-2\" class=\"sk-toggleable__label sk-toggleable__label-arrow\">RandomForestClassifier</label><div class=\"sk-toggleable__content\"><pre>RandomForestClassifier()</pre></div></div></div></div></div>"
      ],
      "text/plain": [
       "RandomForestClassifier()"
      ]
     },
     "execution_count": 35,
     "metadata": {},
     "output_type": "execute_result"
    }
   ],
   "source": [
    "# Train the model using the training data\n",
    "model.fit(X_train_20, Y_train_20)"
   ]
  },
  {
   "cell_type": "code",
   "execution_count": 36,
   "metadata": {},
   "outputs": [
    {
     "name": "stdout",
     "output_type": "stream",
     "text": [
      "Classification Report: \n",
      "               precision    recall  f1-score   support\n",
      "\n",
      "           1       0.97      1.00      0.99        73\n",
      "           2       0.84      0.95      0.89        40\n",
      "           3       1.00      1.00      1.00        49\n",
      "           4       0.96      0.89      0.93        28\n",
      "           5       1.00      1.00      1.00        28\n",
      "           6       1.00      0.50      0.67        10\n",
      "\n",
      "    accuracy                           0.96       228\n",
      "   macro avg       0.96      0.89      0.91       228\n",
      "weighted avg       0.96      0.96      0.95       228\n",
      "\n"
     ]
    }
   ],
   "source": [
    "# Train the model using the training data\n",
    "predict = cross_val_predict(estimator = model, X = X_train_20, y = Y_train_20, cv = 5)\n",
    "print(\"Classification Report: \\n\", classification_report(Y_train_20, predict))"
   ]
  },
  {
   "cell_type": "code",
   "execution_count": 37,
   "metadata": {},
   "outputs": [
    {
     "name": "stdout",
     "output_type": "stream",
     "text": [
      "              precision    recall  f1-score   support\n",
      "\n",
      "           1       1.00      1.00      1.00        19\n",
      "           2       1.00      1.00      1.00         8\n",
      "           3       1.00      1.00      1.00        12\n",
      "           4       1.00      1.00      1.00         7\n",
      "           5       1.00      1.00      1.00         6\n",
      "           6       1.00      1.00      1.00         5\n",
      "\n",
      "    accuracy                           1.00        57\n",
      "   macro avg       1.00      1.00      1.00        57\n",
      "weighted avg       1.00      1.00      1.00        57\n",
      "\n"
     ]
    }
   ],
   "source": [
    "# Make predictions on the test data\n",
    "Y_pred_20 = model.predict(X_val_20)\n",
    "\n",
    "# Generate the classification report\n",
    "report = classification_report(Y_val_20, Y_pred_20)\n",
    "print(report)"
   ]
  },
  {
   "cell_type": "markdown",
   "metadata": {},
   "source": [
    "##### Modelling with 30 features"
   ]
  },
  {
   "cell_type": "code",
   "execution_count": 38,
   "metadata": {},
   "outputs": [],
   "source": [
    "# Split the data into training and testing sets for the top 20 features\n",
    "X_train_30, X_test_30, Y_train_30, Y_test_30 = train_test_split(X_30_features, Y, test_size = 0.2, random_state = 5)"
   ]
  },
  {
   "cell_type": "code",
   "execution_count": 39,
   "metadata": {},
   "outputs": [],
   "source": [
    "#?\n",
    "X_train_30, X_val_30, Y_train_30, Y_val_30 = train_test_split(X_train_30, Y_train_30, test_size = 0.2, random_state = 5)"
   ]
  },
  {
   "cell_type": "code",
   "execution_count": 40,
   "metadata": {
    "scrolled": false
   },
   "outputs": [],
   "source": [
    "# Apply SMOTE to balance the training data\n",
    "X_train_resampled, Y_train_resampled = smote.fit_resample(X_train_30, Y_train_30)"
   ]
  },
  {
   "cell_type": "code",
   "execution_count": 41,
   "metadata": {},
   "outputs": [
    {
     "data": {
      "text/html": [
       "<style>#sk-container-id-3 {color: black;background-color: white;}#sk-container-id-3 pre{padding: 0;}#sk-container-id-3 div.sk-toggleable {background-color: white;}#sk-container-id-3 label.sk-toggleable__label {cursor: pointer;display: block;width: 100%;margin-bottom: 0;padding: 0.3em;box-sizing: border-box;text-align: center;}#sk-container-id-3 label.sk-toggleable__label-arrow:before {content: \"▸\";float: left;margin-right: 0.25em;color: #696969;}#sk-container-id-3 label.sk-toggleable__label-arrow:hover:before {color: black;}#sk-container-id-3 div.sk-estimator:hover label.sk-toggleable__label-arrow:before {color: black;}#sk-container-id-3 div.sk-toggleable__content {max-height: 0;max-width: 0;overflow: hidden;text-align: left;background-color: #f0f8ff;}#sk-container-id-3 div.sk-toggleable__content pre {margin: 0.2em;color: black;border-radius: 0.25em;background-color: #f0f8ff;}#sk-container-id-3 input.sk-toggleable__control:checked~div.sk-toggleable__content {max-height: 200px;max-width: 100%;overflow: auto;}#sk-container-id-3 input.sk-toggleable__control:checked~label.sk-toggleable__label-arrow:before {content: \"▾\";}#sk-container-id-3 div.sk-estimator input.sk-toggleable__control:checked~label.sk-toggleable__label {background-color: #d4ebff;}#sk-container-id-3 div.sk-label input.sk-toggleable__control:checked~label.sk-toggleable__label {background-color: #d4ebff;}#sk-container-id-3 input.sk-hidden--visually {border: 0;clip: rect(1px 1px 1px 1px);clip: rect(1px, 1px, 1px, 1px);height: 1px;margin: -1px;overflow: hidden;padding: 0;position: absolute;width: 1px;}#sk-container-id-3 div.sk-estimator {font-family: monospace;background-color: #f0f8ff;border: 1px dotted black;border-radius: 0.25em;box-sizing: border-box;margin-bottom: 0.5em;}#sk-container-id-3 div.sk-estimator:hover {background-color: #d4ebff;}#sk-container-id-3 div.sk-parallel-item::after {content: \"\";width: 100%;border-bottom: 1px solid gray;flex-grow: 1;}#sk-container-id-3 div.sk-label:hover label.sk-toggleable__label {background-color: #d4ebff;}#sk-container-id-3 div.sk-serial::before {content: \"\";position: absolute;border-left: 1px solid gray;box-sizing: border-box;top: 0;bottom: 0;left: 50%;z-index: 0;}#sk-container-id-3 div.sk-serial {display: flex;flex-direction: column;align-items: center;background-color: white;padding-right: 0.2em;padding-left: 0.2em;position: relative;}#sk-container-id-3 div.sk-item {position: relative;z-index: 1;}#sk-container-id-3 div.sk-parallel {display: flex;align-items: stretch;justify-content: center;background-color: white;position: relative;}#sk-container-id-3 div.sk-item::before, #sk-container-id-3 div.sk-parallel-item::before {content: \"\";position: absolute;border-left: 1px solid gray;box-sizing: border-box;top: 0;bottom: 0;left: 50%;z-index: -1;}#sk-container-id-3 div.sk-parallel-item {display: flex;flex-direction: column;z-index: 1;position: relative;background-color: white;}#sk-container-id-3 div.sk-parallel-item:first-child::after {align-self: flex-end;width: 50%;}#sk-container-id-3 div.sk-parallel-item:last-child::after {align-self: flex-start;width: 50%;}#sk-container-id-3 div.sk-parallel-item:only-child::after {width: 0;}#sk-container-id-3 div.sk-dashed-wrapped {border: 1px dashed gray;margin: 0 0.4em 0.5em 0.4em;box-sizing: border-box;padding-bottom: 0.4em;background-color: white;}#sk-container-id-3 div.sk-label label {font-family: monospace;font-weight: bold;display: inline-block;line-height: 1.2em;}#sk-container-id-3 div.sk-label-container {text-align: center;}#sk-container-id-3 div.sk-container {/* jupyter's `normalize.less` sets `[hidden] { display: none; }` but bootstrap.min.css set `[hidden] { display: none !important; }` so we also need the `!important` here to be able to override the default hidden behavior on the sphinx rendered scikit-learn.org. See: https://github.com/scikit-learn/scikit-learn/issues/21755 */display: inline-block !important;position: relative;}#sk-container-id-3 div.sk-text-repr-fallback {display: none;}</style><div id=\"sk-container-id-3\" class=\"sk-top-container\"><div class=\"sk-text-repr-fallback\"><pre>RandomForestClassifier()</pre><b>In a Jupyter environment, please rerun this cell to show the HTML representation or trust the notebook. <br />On GitHub, the HTML representation is unable to render, please try loading this page with nbviewer.org.</b></div><div class=\"sk-container\" hidden><div class=\"sk-item\"><div class=\"sk-estimator sk-toggleable\"><input class=\"sk-toggleable__control sk-hidden--visually\" id=\"sk-estimator-id-3\" type=\"checkbox\" checked><label for=\"sk-estimator-id-3\" class=\"sk-toggleable__label sk-toggleable__label-arrow\">RandomForestClassifier</label><div class=\"sk-toggleable__content\"><pre>RandomForestClassifier()</pre></div></div></div></div></div>"
      ],
      "text/plain": [
       "RandomForestClassifier()"
      ]
     },
     "execution_count": 41,
     "metadata": {},
     "output_type": "execute_result"
    }
   ],
   "source": [
    "# Train the model using the training data\n",
    "model.fit(X_train_30, Y_train_30)"
   ]
  },
  {
   "cell_type": "code",
   "execution_count": 42,
   "metadata": {},
   "outputs": [
    {
     "name": "stdout",
     "output_type": "stream",
     "text": [
      "Classification Report: \n",
      "               precision    recall  f1-score   support\n",
      "\n",
      "           1       0.99      1.00      0.99        73\n",
      "           2       0.90      0.95      0.93        40\n",
      "           3       1.00      1.00      1.00        49\n",
      "           4       0.96      0.86      0.91        28\n",
      "           5       1.00      1.00      1.00        28\n",
      "           6       1.00      1.00      1.00        10\n",
      "\n",
      "    accuracy                           0.97       228\n",
      "   macro avg       0.98      0.97      0.97       228\n",
      "weighted avg       0.97      0.97      0.97       228\n",
      "\n"
     ]
    }
   ],
   "source": [
    "# Train the model using the training data\n",
    "predict = cross_val_predict(estimator = model, X = X_train_30, y = Y_train_30, cv = 5)\n",
    "print(\"Classification Report: \\n\", classification_report(Y_train_30, predict))"
   ]
  },
  {
   "cell_type": "code",
   "execution_count": 43,
   "metadata": {},
   "outputs": [
    {
     "name": "stdout",
     "output_type": "stream",
     "text": [
      "              precision    recall  f1-score   support\n",
      "\n",
      "           1       0.95      1.00      0.97        19\n",
      "           2       0.85      1.00      0.92        11\n",
      "           3       1.00      1.00      1.00        10\n",
      "           4       1.00      0.85      0.92        13\n",
      "           5       1.00      1.00      1.00        14\n",
      "           6       1.00      0.80      0.89         5\n",
      "\n",
      "    accuracy                           0.96        72\n",
      "   macro avg       0.97      0.94      0.95        72\n",
      "weighted avg       0.96      0.96      0.96        72\n",
      "\n"
     ]
    }
   ],
   "source": [
    "# Make predictions on the test data\n",
    "Y_pred_30 = model.predict(X_test_30)\n",
    "\n",
    "# Generate the classification report\n",
    "report = classification_report(Y_test_30, Y_pred_30)\n",
    "print(report)"
   ]
  },
  {
   "cell_type": "markdown",
   "metadata": {},
   "source": [
    "##### Modelling with All features"
   ]
  },
  {
   "cell_type": "code",
   "execution_count": 44,
   "metadata": {},
   "outputs": [],
   "source": [
    "# Apply SMOTE to balance the training data\n",
    "X_train_resampled, Y_train_resampled = smote.fit_resample(X_train, Y_train)"
   ]
  },
  {
   "cell_type": "code",
   "execution_count": 45,
   "metadata": {},
   "outputs": [
    {
     "data": {
      "text/html": [
       "<style>#sk-container-id-4 {color: black;background-color: white;}#sk-container-id-4 pre{padding: 0;}#sk-container-id-4 div.sk-toggleable {background-color: white;}#sk-container-id-4 label.sk-toggleable__label {cursor: pointer;display: block;width: 100%;margin-bottom: 0;padding: 0.3em;box-sizing: border-box;text-align: center;}#sk-container-id-4 label.sk-toggleable__label-arrow:before {content: \"▸\";float: left;margin-right: 0.25em;color: #696969;}#sk-container-id-4 label.sk-toggleable__label-arrow:hover:before {color: black;}#sk-container-id-4 div.sk-estimator:hover label.sk-toggleable__label-arrow:before {color: black;}#sk-container-id-4 div.sk-toggleable__content {max-height: 0;max-width: 0;overflow: hidden;text-align: left;background-color: #f0f8ff;}#sk-container-id-4 div.sk-toggleable__content pre {margin: 0.2em;color: black;border-radius: 0.25em;background-color: #f0f8ff;}#sk-container-id-4 input.sk-toggleable__control:checked~div.sk-toggleable__content {max-height: 200px;max-width: 100%;overflow: auto;}#sk-container-id-4 input.sk-toggleable__control:checked~label.sk-toggleable__label-arrow:before {content: \"▾\";}#sk-container-id-4 div.sk-estimator input.sk-toggleable__control:checked~label.sk-toggleable__label {background-color: #d4ebff;}#sk-container-id-4 div.sk-label input.sk-toggleable__control:checked~label.sk-toggleable__label {background-color: #d4ebff;}#sk-container-id-4 input.sk-hidden--visually {border: 0;clip: rect(1px 1px 1px 1px);clip: rect(1px, 1px, 1px, 1px);height: 1px;margin: -1px;overflow: hidden;padding: 0;position: absolute;width: 1px;}#sk-container-id-4 div.sk-estimator {font-family: monospace;background-color: #f0f8ff;border: 1px dotted black;border-radius: 0.25em;box-sizing: border-box;margin-bottom: 0.5em;}#sk-container-id-4 div.sk-estimator:hover {background-color: #d4ebff;}#sk-container-id-4 div.sk-parallel-item::after {content: \"\";width: 100%;border-bottom: 1px solid gray;flex-grow: 1;}#sk-container-id-4 div.sk-label:hover label.sk-toggleable__label {background-color: #d4ebff;}#sk-container-id-4 div.sk-serial::before {content: \"\";position: absolute;border-left: 1px solid gray;box-sizing: border-box;top: 0;bottom: 0;left: 50%;z-index: 0;}#sk-container-id-4 div.sk-serial {display: flex;flex-direction: column;align-items: center;background-color: white;padding-right: 0.2em;padding-left: 0.2em;position: relative;}#sk-container-id-4 div.sk-item {position: relative;z-index: 1;}#sk-container-id-4 div.sk-parallel {display: flex;align-items: stretch;justify-content: center;background-color: white;position: relative;}#sk-container-id-4 div.sk-item::before, #sk-container-id-4 div.sk-parallel-item::before {content: \"\";position: absolute;border-left: 1px solid gray;box-sizing: border-box;top: 0;bottom: 0;left: 50%;z-index: -1;}#sk-container-id-4 div.sk-parallel-item {display: flex;flex-direction: column;z-index: 1;position: relative;background-color: white;}#sk-container-id-4 div.sk-parallel-item:first-child::after {align-self: flex-end;width: 50%;}#sk-container-id-4 div.sk-parallel-item:last-child::after {align-self: flex-start;width: 50%;}#sk-container-id-4 div.sk-parallel-item:only-child::after {width: 0;}#sk-container-id-4 div.sk-dashed-wrapped {border: 1px dashed gray;margin: 0 0.4em 0.5em 0.4em;box-sizing: border-box;padding-bottom: 0.4em;background-color: white;}#sk-container-id-4 div.sk-label label {font-family: monospace;font-weight: bold;display: inline-block;line-height: 1.2em;}#sk-container-id-4 div.sk-label-container {text-align: center;}#sk-container-id-4 div.sk-container {/* jupyter's `normalize.less` sets `[hidden] { display: none; }` but bootstrap.min.css set `[hidden] { display: none !important; }` so we also need the `!important` here to be able to override the default hidden behavior on the sphinx rendered scikit-learn.org. See: https://github.com/scikit-learn/scikit-learn/issues/21755 */display: inline-block !important;position: relative;}#sk-container-id-4 div.sk-text-repr-fallback {display: none;}</style><div id=\"sk-container-id-4\" class=\"sk-top-container\"><div class=\"sk-text-repr-fallback\"><pre>RandomForestClassifier()</pre><b>In a Jupyter environment, please rerun this cell to show the HTML representation or trust the notebook. <br />On GitHub, the HTML representation is unable to render, please try loading this page with nbviewer.org.</b></div><div class=\"sk-container\" hidden><div class=\"sk-item\"><div class=\"sk-estimator sk-toggleable\"><input class=\"sk-toggleable__control sk-hidden--visually\" id=\"sk-estimator-id-4\" type=\"checkbox\" checked><label for=\"sk-estimator-id-4\" class=\"sk-toggleable__label sk-toggleable__label-arrow\">RandomForestClassifier</label><div class=\"sk-toggleable__content\"><pre>RandomForestClassifier()</pre></div></div></div></div></div>"
      ],
      "text/plain": [
       "RandomForestClassifier()"
      ]
     },
     "execution_count": 45,
     "metadata": {},
     "output_type": "execute_result"
    }
   ],
   "source": [
    "# Train the model using the training data\n",
    "model.fit(X_train, Y_train)"
   ]
  },
  {
   "cell_type": "code",
   "execution_count": 46,
   "metadata": {},
   "outputs": [
    {
     "name": "stdout",
     "output_type": "stream",
     "text": [
      "Classification Report: \n",
      "               precision    recall  f1-score   support\n",
      "\n",
      "           1       0.99      1.00      0.99        73\n",
      "           2       0.88      0.93      0.90        40\n",
      "           3       1.00      1.00      1.00        49\n",
      "           4       0.92      0.82      0.87        28\n",
      "           5       1.00      1.00      1.00        28\n",
      "           6       1.00      1.00      1.00        10\n",
      "\n",
      "    accuracy                           0.96       228\n",
      "   macro avg       0.96      0.96      0.96       228\n",
      "weighted avg       0.96      0.96      0.96       228\n",
      "\n"
     ]
    }
   ],
   "source": [
    "# Perform cross-validation and generate a classification report\n",
    "predict = cross_val_predict(estimator = model, X = X_train, y = Y_train, cv = 5)\n",
    "print(\"Classification Report: \\n\", classification_report(Y_train, predict))"
   ]
  },
  {
   "cell_type": "code",
   "execution_count": 47,
   "metadata": {},
   "outputs": [
    {
     "name": "stdout",
     "output_type": "stream",
     "text": [
      "              precision    recall  f1-score   support\n",
      "\n",
      "           1       1.00      1.00      1.00        19\n",
      "           2       1.00      1.00      1.00         8\n",
      "           3       1.00      1.00      1.00        12\n",
      "           4       1.00      1.00      1.00         7\n",
      "           5       1.00      1.00      1.00         6\n",
      "           6       1.00      1.00      1.00         5\n",
      "\n",
      "    accuracy                           1.00        57\n",
      "   macro avg       1.00      1.00      1.00        57\n",
      "weighted avg       1.00      1.00      1.00        57\n",
      "\n"
     ]
    }
   ],
   "source": [
    "# Make predictions on the test data\n",
    "Y_pred = model.predict(X_val)\n",
    "\n",
    "# Generate the classification report\n",
    "report = classification_report(Y_val, Y_pred)\n",
    "print(report)"
   ]
  },
  {
   "cell_type": "markdown",
   "metadata": {},
   "source": [
    "##### Information Gain"
   ]
  },
  {
   "cell_type": "code",
   "execution_count": 48,
   "metadata": {},
   "outputs": [
    {
     "data": {
      "image/png": "[encoded data removed]",
      "text/plain": [
       "<Figure size 720x720 with 1 Axes>"
      ]
     },
     "metadata": {
      "needs_background": "light"
     },
     "output_type": "display_data"
    }
   ],
   "source": [
    "# Compute the feature importances using mutual information\n",
    "importances = mutual_info_classif(X_train,Y_train)\n",
    "feat_importances = pd.Series(importances, df.columns[0:len(df.columns)-1])\n",
    "\n",
    "# Plot the feature importances as a horizontal bar chart\n",
    "plt.figure(figsize=(10, 10)) \n",
    "feat_importances.plot(kind='barh', color='teal', edgecolor='white')  \n",
    "plt.show()"
   ]
  },
  {
   "cell_type": "code",
   "execution_count": 49,
   "metadata": {},
   "outputs": [
    {
     "data": {
      "image/png": "[encoded data removed]",
      "text/plain": [
       "<Figure size 576x432 with 1 Axes>"
      ]
     },
     "metadata": {
      "needs_background": "light"
     },
     "output_type": "display_data"
    }
   ],
   "source": [
    "# Create a figure from the selected top 20 features \n",
    "# Plot the top 20 features as a horizontal bar chart\n",
    "\n",
    "k = 20 \n",
    "top_k_features = feat_importances.nlargest(k)\n",
    "\n",
    "plt.figure(figsize=(8, 6))\n",
    "top_k_features.plot(kind='barh', color='teal', edgecolor='white')\n",
    "plt.show()"
   ]
  },
  {
   "cell_type": "code",
   "execution_count": 50,
   "metadata": {},
   "outputs": [
    {
     "data": {
      "text/plain": [
       "['clubbing of the rete ridges',\n",
       " 'elongation of the rete ridges',\n",
       " 'band-like infiltrate',\n",
       " 'saw-tooth appearance of retes',\n",
       " 'thinning of the suprapapillary epidermis',\n",
       " 'melanin incontinence',\n",
       " 'exocytosis',\n",
       " 'polygonal papules',\n",
       " 'focal hypergranulosis',\n",
       " 'vacuolisation and damage of basal layer',\n",
       " 'spongiosis',\n",
       " 'knee and elbow involvement',\n",
       " 'oral mucosal involvement',\n",
       " 'fibrosis of the papillary dermis',\n",
       " 'scalp involvement',\n",
       " 'munro microabcess',\n",
       " 'disappearance of the granular layer',\n",
       " 'PNL infiltrate',\n",
       " 'definite borders',\n",
       " 'koebner phenomenon']"
      ]
     },
     "execution_count": 50,
     "metadata": {},
     "output_type": "execute_result"
    }
   ],
   "source": [
    "# Check top 20 features\n",
    "top_20_features"
   ]
  },
  {
   "cell_type": "markdown",
   "metadata": {},
   "source": [
    "#### Data modeling\n",
    "Build the machine learning models. You must build atleast two (2) predictive models. One of the predictive models must be either Decision Tree or Support Vector Machine.\n",
    "______________________________________________________________________________________\n",
    "Description: In this part, Support Vector Machine (SVM) and K-Nearest Neighbour (KNN) were used as the predictive model. Data were fed into them so they can learn and make predictions by using existing data. The performance was compared with the result from Hyperparameter Tuning models.."
   ]
  },
  {
   "cell_type": "markdown",
   "metadata": {},
   "source": [
    "##### Support Vector Machine (SVM)"
   ]
  },
  {
   "cell_type": "code",
   "execution_count": 51,
   "metadata": {},
   "outputs": [
    {
     "data": {
      "text/html": [
       "<style>#sk-container-id-5 {color: black;background-color: white;}#sk-container-id-5 pre{padding: 0;}#sk-container-id-5 div.sk-toggleable {background-color: white;}#sk-container-id-5 label.sk-toggleable__label {cursor: pointer;display: block;width: 100%;margin-bottom: 0;padding: 0.3em;box-sizing: border-box;text-align: center;}#sk-container-id-5 label.sk-toggleable__label-arrow:before {content: \"▸\";float: left;margin-right: 0.25em;color: #696969;}#sk-container-id-5 label.sk-toggleable__label-arrow:hover:before {color: black;}#sk-container-id-5 div.sk-estimator:hover label.sk-toggleable__label-arrow:before {color: black;}#sk-container-id-5 div.sk-toggleable__content {max-height: 0;max-width: 0;overflow: hidden;text-align: left;background-color: #f0f8ff;}#sk-container-id-5 div.sk-toggleable__content pre {margin: 0.2em;color: black;border-radius: 0.25em;background-color: #f0f8ff;}#sk-container-id-5 input.sk-toggleable__control:checked~div.sk-toggleable__content {max-height: 200px;max-width: 100%;overflow: auto;}#sk-container-id-5 input.sk-toggleable__control:checked~label.sk-toggleable__label-arrow:before {content: \"▾\";}#sk-container-id-5 div.sk-estimator input.sk-toggleable__control:checked~label.sk-toggleable__label {background-color: #d4ebff;}#sk-container-id-5 div.sk-label input.sk-toggleable__control:checked~label.sk-toggleable__label {background-color: #d4ebff;}#sk-container-id-5 input.sk-hidden--visually {border: 0;clip: rect(1px 1px 1px 1px);clip: rect(1px, 1px, 1px, 1px);height: 1px;margin: -1px;overflow: hidden;padding: 0;position: absolute;width: 1px;}#sk-container-id-5 div.sk-estimator {font-family: monospace;background-color: #f0f8ff;border: 1px dotted black;border-radius: 0.25em;box-sizing: border-box;margin-bottom: 0.5em;}#sk-container-id-5 div.sk-estimator:hover {background-color: #d4ebff;}#sk-container-id-5 div.sk-parallel-item::after {content: \"\";width: 100%;border-bottom: 1px solid gray;flex-grow: 1;}#sk-container-id-5 div.sk-label:hover label.sk-toggleable__label {background-color: #d4ebff;}#sk-container-id-5 div.sk-serial::before {content: \"\";position: absolute;border-left: 1px solid gray;box-sizing: border-box;top: 0;bottom: 0;left: 50%;z-index: 0;}#sk-container-id-5 div.sk-serial {display: flex;flex-direction: column;align-items: center;background-color: white;padding-right: 0.2em;padding-left: 0.2em;position: relative;}#sk-container-id-5 div.sk-item {position: relative;z-index: 1;}#sk-container-id-5 div.sk-parallel {display: flex;align-items: stretch;justify-content: center;background-color: white;position: relative;}#sk-container-id-5 div.sk-item::before, #sk-container-id-5 div.sk-parallel-item::before {content: \"\";position: absolute;border-left: 1px solid gray;box-sizing: border-box;top: 0;bottom: 0;left: 50%;z-index: -1;}#sk-container-id-5 div.sk-parallel-item {display: flex;flex-direction: column;z-index: 1;position: relative;background-color: white;}#sk-container-id-5 div.sk-parallel-item:first-child::after {align-self: flex-end;width: 50%;}#sk-container-id-5 div.sk-parallel-item:last-child::after {align-self: flex-start;width: 50%;}#sk-container-id-5 div.sk-parallel-item:only-child::after {width: 0;}#sk-container-id-5 div.sk-dashed-wrapped {border: 1px dashed gray;margin: 0 0.4em 0.5em 0.4em;box-sizing: border-box;padding-bottom: 0.4em;background-color: white;}#sk-container-id-5 div.sk-label label {font-family: monospace;font-weight: bold;display: inline-block;line-height: 1.2em;}#sk-container-id-5 div.sk-label-container {text-align: center;}#sk-container-id-5 div.sk-container {/* jupyter's `normalize.less` sets `[hidden] { display: none; }` but bootstrap.min.css set `[hidden] { display: none !important; }` so we also need the `!important` here to be able to override the default hidden behavior on the sphinx rendered scikit-learn.org. See: https://github.com/scikit-learn/scikit-learn/issues/21755 */display: inline-block !important;position: relative;}#sk-container-id-5 div.sk-text-repr-fallback {display: none;}</style><div id=\"sk-container-id-5\" class=\"sk-top-container\"><div class=\"sk-text-repr-fallback\"><pre>SVC(C=0.1, kernel=&#x27;linear&#x27;)</pre><b>In a Jupyter environment, please rerun this cell to show the HTML representation or trust the notebook. <br />On GitHub, the HTML representation is unable to render, please try loading this page with nbviewer.org.</b></div><div class=\"sk-container\" hidden><div class=\"sk-item\"><div class=\"sk-estimator sk-toggleable\"><input class=\"sk-toggleable__control sk-hidden--visually\" id=\"sk-estimator-id-5\" type=\"checkbox\" checked><label for=\"sk-estimator-id-5\" class=\"sk-toggleable__label sk-toggleable__label-arrow\">SVC</label><div class=\"sk-toggleable__content\"><pre>SVC(C=0.1, kernel=&#x27;linear&#x27;)</pre></div></div></div></div></div>"
      ],
      "text/plain": [
       "SVC(C=0.1, kernel='linear')"
      ]
     },
     "execution_count": 51,
     "metadata": {},
     "output_type": "execute_result"
    }
   ],
   "source": [
    "# import library for SVM \n",
    "from sklearn.svm import SVC\n",
    "\n",
    "# Create an Instance of SVM with a linear kernel & fit the model to the training data\n",
    "C = 0.1\n",
    "svm = SVC(kernel='linear', C=C)\n",
    "svm.fit(X_train_20, Y_train_20)"
   ]
  },
  {
   "cell_type": "code",
   "execution_count": 52,
   "metadata": {},
   "outputs": [
    {
     "name": "stdout",
     "output_type": "stream",
     "text": [
      "accuracy score:  0.9649122807017544\n",
      "precision score:  0.9668615984405459\n",
      "recall score:  0.9649122807017544\n",
      "f1 score:  0.9651911973893398\n"
     ]
    }
   ],
   "source": [
    "# predict validation data\n",
    "Y_pred_svm = svm.predict(X_val_20)\n",
    "\n",
    "#Print Result\n",
    "print('accuracy score: ', accuracy_score(Y_val_20, Y_pred_svm))\n",
    "print('precision score: ', precision_score(Y_val_20, Y_pred_svm, average='weighted'))\n",
    "print('recall score: ', recall_score(Y_val_20, Y_pred_svm, average='weighted'))\n",
    "print('f1 score: ', f1_score(Y_val_20, Y_pred_svm, average='weighted'))\n"
   ]
  },
  {
   "cell_type": "markdown",
   "metadata": {},
   "source": [
    "##### Hyperparameter Tuning for SVM"
   ]
  },
  {
   "cell_type": "code",
   "execution_count": 53,
   "metadata": {},
   "outputs": [
    {
     "data": {
      "image/png": "[encoded data removed]",
      "text/plain": [
       "<Figure size 720x432 with 1 Axes>"
      ]
     },
     "metadata": {
      "needs_background": "light"
     },
     "output_type": "display_data"
    },
    {
     "name": "stdout",
     "output_type": "stream",
     "text": [
      "Best C value: 1\n"
     ]
    }
   ],
   "source": [
    "# import library for generating validation curves\n",
    "from sklearn.model_selection import validation_curve\n",
    "\n",
    "# import library for performing an exhaustive search over specified hyperparameter values for an estimator (a machine learning model).\n",
    "from sklearn.model_selection import GridSearchCV\n",
    "\n",
    "# Define the range of C values to test\n",
    "param_range = [0.1, 1, 10, 100]\n",
    "\n",
    "# Create the SVM classifier\n",
    "svm = SVC(kernel='linear')\n",
    "\n",
    "# Compute validation curve\n",
    "train_scores, test_scores = validation_curve(svm, X_train_20, Y_train_20, param_name='C', param_range=param_range, cv=5)\n",
    "\n",
    "# Calculate mean and standard deviation for training and test scores\n",
    "mean_train_scores = np.mean(train_scores, axis=1)\n",
    "std_train_scores = np.std(train_scores, axis=1)\n",
    "mean_test_scores = np.mean(test_scores, axis=1)\n",
    "std_test_scores = np.std(test_scores, axis=1)\n",
    "\n",
    "# Plot the validation curve\n",
    "plt.figure(figsize=(10, 6))\n",
    "plt.plot(param_range, mean_train_scores, label='Training score', color='b')\n",
    "plt.plot(param_range, mean_test_scores, label='Cross-validation score', color='r')\n",
    "\n",
    "# Plot the shaded area showing the variance\n",
    "plt.fill_between(param_range, mean_train_scores - std_train_scores, mean_train_scores + std_train_scores, alpha=0.2, color='b')\n",
    "plt.fill_between(param_range, mean_test_scores - std_test_scores, mean_test_scores + std_test_scores, alpha=0.2, color='r')\n",
    "\n",
    "# Perform grid search on the training data\n",
    "grid_search = GridSearchCV(svm, param_grid={'C': param_range})\n",
    "grid_search.fit(X_train_20, Y_train_20)\n",
    "\n",
    "# Get the best C value\n",
    "best_C = grid_search.best_params_['C']\n",
    "\n",
    "# Highlight the best C value\n",
    "plt.axvline(x=best_C, color='g', linestyle='--', label='Best C')\n",
    "\n",
    "# Add labels and title\n",
    "plt.xlabel('C')\n",
    "plt.ylabel('Score')\n",
    "plt.title('Validation Curve - SVM')\n",
    "plt.legend(loc='best')\n",
    "plt.grid(True)\n",
    "\n",
    "# Show the plot\n",
    "plt.show()\n",
    "\n",
    "# Print the best C value\n",
    "print(\"Best C value:\", best_C)"
   ]
  },
  {
   "cell_type": "code",
   "execution_count": 54,
   "metadata": {},
   "outputs": [
    {
     "data": {
      "text/html": [
       "<style>#sk-container-id-6 {color: black;background-color: white;}#sk-container-id-6 pre{padding: 0;}#sk-container-id-6 div.sk-toggleable {background-color: white;}#sk-container-id-6 label.sk-toggleable__label {cursor: pointer;display: block;width: 100%;margin-bottom: 0;padding: 0.3em;box-sizing: border-box;text-align: center;}#sk-container-id-6 label.sk-toggleable__label-arrow:before {content: \"▸\";float: left;margin-right: 0.25em;color: #696969;}#sk-container-id-6 label.sk-toggleable__label-arrow:hover:before {color: black;}#sk-container-id-6 div.sk-estimator:hover label.sk-toggleable__label-arrow:before {color: black;}#sk-container-id-6 div.sk-toggleable__content {max-height: 0;max-width: 0;overflow: hidden;text-align: left;background-color: #f0f8ff;}#sk-container-id-6 div.sk-toggleable__content pre {margin: 0.2em;color: black;border-radius: 0.25em;background-color: #f0f8ff;}#sk-container-id-6 input.sk-toggleable__control:checked~div.sk-toggleable__content {max-height: 200px;max-width: 100%;overflow: auto;}#sk-container-id-6 input.sk-toggleable__control:checked~label.sk-toggleable__label-arrow:before {content: \"▾\";}#sk-container-id-6 div.sk-estimator input.sk-toggleable__control:checked~label.sk-toggleable__label {background-color: #d4ebff;}#sk-container-id-6 div.sk-label input.sk-toggleable__control:checked~label.sk-toggleable__label {background-color: #d4ebff;}#sk-container-id-6 input.sk-hidden--visually {border: 0;clip: rect(1px 1px 1px 1px);clip: rect(1px, 1px, 1px, 1px);height: 1px;margin: -1px;overflow: hidden;padding: 0;position: absolute;width: 1px;}#sk-container-id-6 div.sk-estimator {font-family: monospace;background-color: #f0f8ff;border: 1px dotted black;border-radius: 0.25em;box-sizing: border-box;margin-bottom: 0.5em;}#sk-container-id-6 div.sk-estimator:hover {background-color: #d4ebff;}#sk-container-id-6 div.sk-parallel-item::after {content: \"\";width: 100%;border-bottom: 1px solid gray;flex-grow: 1;}#sk-container-id-6 div.sk-label:hover label.sk-toggleable__label {background-color: #d4ebff;}#sk-container-id-6 div.sk-serial::before {content: \"\";position: absolute;border-left: 1px solid gray;box-sizing: border-box;top: 0;bottom: 0;left: 50%;z-index: 0;}#sk-container-id-6 div.sk-serial {display: flex;flex-direction: column;align-items: center;background-color: white;padding-right: 0.2em;padding-left: 0.2em;position: relative;}#sk-container-id-6 div.sk-item {position: relative;z-index: 1;}#sk-container-id-6 div.sk-parallel {display: flex;align-items: stretch;justify-content: center;background-color: white;position: relative;}#sk-container-id-6 div.sk-item::before, #sk-container-id-6 div.sk-parallel-item::before {content: \"\";position: absolute;border-left: 1px solid gray;box-sizing: border-box;top: 0;bottom: 0;left: 50%;z-index: -1;}#sk-container-id-6 div.sk-parallel-item {display: flex;flex-direction: column;z-index: 1;position: relative;background-color: white;}#sk-container-id-6 div.sk-parallel-item:first-child::after {align-self: flex-end;width: 50%;}#sk-container-id-6 div.sk-parallel-item:last-child::after {align-self: flex-start;width: 50%;}#sk-container-id-6 div.sk-parallel-item:only-child::after {width: 0;}#sk-container-id-6 div.sk-dashed-wrapped {border: 1px dashed gray;margin: 0 0.4em 0.5em 0.4em;box-sizing: border-box;padding-bottom: 0.4em;background-color: white;}#sk-container-id-6 div.sk-label label {font-family: monospace;font-weight: bold;display: inline-block;line-height: 1.2em;}#sk-container-id-6 div.sk-label-container {text-align: center;}#sk-container-id-6 div.sk-container {/* jupyter's `normalize.less` sets `[hidden] { display: none; }` but bootstrap.min.css set `[hidden] { display: none !important; }` so we also need the `!important` here to be able to override the default hidden behavior on the sphinx rendered scikit-learn.org. See: https://github.com/scikit-learn/scikit-learn/issues/21755 */display: inline-block !important;position: relative;}#sk-container-id-6 div.sk-text-repr-fallback {display: none;}</style><div id=\"sk-container-id-6\" class=\"sk-top-container\"><div class=\"sk-text-repr-fallback\"><pre>SVC(C=1, kernel=&#x27;linear&#x27;)</pre><b>In a Jupyter environment, please rerun this cell to show the HTML representation or trust the notebook. <br />On GitHub, the HTML representation is unable to render, please try loading this page with nbviewer.org.</b></div><div class=\"sk-container\" hidden><div class=\"sk-item\"><div class=\"sk-estimator sk-toggleable\"><input class=\"sk-toggleable__control sk-hidden--visually\" id=\"sk-estimator-id-6\" type=\"checkbox\" checked><label for=\"sk-estimator-id-6\" class=\"sk-toggleable__label sk-toggleable__label-arrow\">SVC</label><div class=\"sk-toggleable__content\"><pre>SVC(C=1, kernel=&#x27;linear&#x27;)</pre></div></div></div></div></div>"
      ],
      "text/plain": [
       "SVC(C=1, kernel='linear')"
      ]
     },
     "execution_count": 54,
     "metadata": {},
     "output_type": "execute_result"
    }
   ],
   "source": [
    "# Create an Instance of SVM with a linear kernel & fit the model to the training data\n",
    "C = best_C\n",
    "svm_HT = SVC(kernel='linear', C=C)\n",
    "svm_HT.fit(X_train_20, Y_train_20)"
   ]
  },
  {
   "cell_type": "code",
   "execution_count": 55,
   "metadata": {},
   "outputs": [
    {
     "name": "stdout",
     "output_type": "stream",
     "text": [
      "accuracy score:  0.9649122807017544\n",
      "precision score:  0.9668615984405459\n",
      "recall score:  0.9649122807017544\n",
      "f1 score:  0.9651911973893398\n"
     ]
    }
   ],
   "source": [
    "#Predict validation data \n",
    "Y_pred_svm_HT = svm_HT.predict(X_val_20)\n",
    "\n",
    "#Print result\n",
    "print('accuracy score: ', accuracy_score(Y_val_20, Y_pred_svm_HT))\n",
    "print('precision score: ', precision_score(Y_val_20, Y_pred_svm_HT, average='weighted'))\n",
    "print('recall score: ', recall_score(Y_val_20, Y_pred_svm_HT, average='weighted'))\n",
    "print('f1 score: ', f1_score(Y_val_20, Y_pred_svm_HT, average='weighted'))"
   ]
  },
  {
   "cell_type": "markdown",
   "metadata": {},
   "source": [
    "##### K-Nearest Neighbour (KNN)"
   ]
  },
  {
   "cell_type": "code",
   "execution_count": 56,
   "metadata": {},
   "outputs": [],
   "source": [
    "# import library for KNN\n",
    "from sklearn.neighbors import KNeighborsClassifier\n",
    "\n",
    "# Create KNN classifier & fit the model to the training data\n",
    "# Get the accuracy score on the test data \n",
    "scores = []\n",
    "max_score = 0\n",
    "best_k = 0\n",
    "for k in range(1,20):\n",
    "    knn = KNeighborsClassifier(n_neighbors=k)\n",
    "    knn.fit(X_train_20, Y_train_20)\n",
    "    score = knn.score(X_val_20, Y_val_20)\n",
    "    if score > max_score:\n",
    "        max_score = score\n",
    "        best_k = k\n",
    "    scores.append(score)"
   ]
  },
  {
   "cell_type": "code",
   "execution_count": 57,
   "metadata": {},
   "outputs": [
    {
     "data": {
      "text/plain": [
       "[0.9824561403508771,\n",
       " 0.9473684210526315,\n",
       " 0.9649122807017544,\n",
       " 0.9298245614035088,\n",
       " 0.9649122807017544,\n",
       " 0.9122807017543859,\n",
       " 0.9473684210526315,\n",
       " 0.9298245614035088,\n",
       " 0.9473684210526315,\n",
       " 0.9298245614035088,\n",
       " 0.9298245614035088,\n",
       " 0.9298245614035088,\n",
       " 0.9298245614035088,\n",
       " 0.9298245614035088,\n",
       " 0.9298245614035088,\n",
       " 0.9298245614035088,\n",
       " 0.9298245614035088,\n",
       " 0.9298245614035088,\n",
       " 0.9473684210526315]"
      ]
     },
     "execution_count": 57,
     "metadata": {},
     "output_type": "execute_result"
    }
   ],
   "source": [
    "#Testing accuracy for each value of K\n",
    "scores"
   ]
  },
  {
   "cell_type": "code",
   "execution_count": 58,
   "metadata": {},
   "outputs": [
    {
     "data": {
      "image/png": "[encoded data removed]",
      "text/plain": [
       "<Figure size 432x288 with 1 Axes>"
      ]
     },
     "metadata": {
      "needs_background": "light"
     },
     "output_type": "display_data"
    },
    {
     "name": "stdout",
     "output_type": "stream",
     "text": [
      "Max Score:  0.9824561403508771\n",
      "Best K:  1\n"
     ]
    }
   ],
   "source": [
    "# Plot the scores & find the maximum scoree and its corresponding index\n",
    "plt.plot(np.arange(1,20), scores)\n",
    "plt.xticks(np.arange(1,20))\n",
    "plt.grid()\n",
    "plt.show()\n",
    "print('Max Score: ', max(scores))\n",
    "print ('Best K: ',best_k)"
   ]
  },
  {
   "cell_type": "code",
   "execution_count": 59,
   "metadata": {},
   "outputs": [
    {
     "name": "stdout",
     "output_type": "stream",
     "text": [
      "accuracy score:  0.9473684210526315\n",
      "precision score:  0.9617224880382775\n",
      "recall score:  0.9473684210526315\n",
      "f1 score:  0.9402453502176493\n"
     ]
    }
   ],
   "source": [
    "#Predict validation data\n",
    "Y_pred_knn = knn.predict(X_val_20)\n",
    "\n",
    "#Print Results\n",
    "print('accuracy score: ', accuracy_score(Y_val_20, Y_pred_knn))\n",
    "print('precision score: ', precision_score(Y_val_20, Y_pred_knn, average='weighted'))\n",
    "print('recall score: ', recall_score(Y_val_20, Y_pred_knn, average='weighted'))\n",
    "print('f1 score: ', f1_score(Y_val_20, Y_pred_knn, average='weighted'))"
   ]
  },
  {
   "cell_type": "markdown",
   "metadata": {},
   "source": [
    "##### Hyperparameter Tuning For KNN"
   ]
  },
  {
   "cell_type": "code",
   "execution_count": 60,
   "metadata": {},
   "outputs": [
    {
     "name": "stdout",
     "output_type": "stream",
     "text": [
      "Best k value: 3\n",
      "Test set score: 0.9649122807017544\n"
     ]
    }
   ],
   "source": [
    "#\n",
    "from sklearn.model_selection import RandomizedSearchCV\n",
    "\n",
    "# Define the parameter grid for random search\n",
    "param_grid = {'n_neighbors': np.arange(1, 20)}\n",
    "\n",
    "# Create the KNN classifier\n",
    "knnc = KNeighborsClassifier()\n",
    "\n",
    "# Create the RandomizedSearchCV object\n",
    "random_search = RandomizedSearchCV(knnc, param_distributions=param_grid, n_iter=10)\n",
    "\n",
    "# Perform random search on the training data\n",
    "random_search.fit(X_train_20, Y_train_20)\n",
    "\n",
    "# Get the best hyperparameters\n",
    "best_k = random_search.best_params_['n_neighbors']\n",
    "\n",
    "# Fit the KNN classifier with the best hyperparameters\n",
    "knn_HT = KNeighborsClassifier(n_neighbors=best_k)\n",
    "knn_HT.fit(X_train_20, Y_train_20)\n",
    "\n",
    "# Calculate the score on the test set\n",
    "score = knn_HT.score(X_val_20, Y_val_20)\n",
    "\n",
    "print(\"Best k value:\", best_k)\n",
    "print(\"Test set score:\", score)"
   ]
  },
  {
   "cell_type": "code",
   "execution_count": 61,
   "metadata": {},
   "outputs": [
    {
     "name": "stdout",
     "output_type": "stream",
     "text": [
      "accuracy score:  0.9649122807017544\n",
      "precision score:  0.9719298245614035\n",
      "recall score:  0.9649122807017544\n",
      "f1 score:  0.9652121757384915\n"
     ]
    }
   ],
   "source": [
    "#Predict validation data\n",
    "Y_pred_knn_HT = knn_HT.predict(X_val_20)\n",
    "\n",
    "#Print Results\n",
    "print('accuracy score: ', accuracy_score(Y_val_20, Y_pred_knn_HT))\n",
    "print('precision score: ', precision_score(Y_val_20, Y_pred_knn_HT, average='weighted'))\n",
    "print('recall score: ', recall_score(Y_val_20, Y_pred_knn_HT, average='weighted'))\n",
    "print('f1 score: ', f1_score(Y_val_20, Y_pred_knn_HT, average='weighted'))"
   ]
  },
  {
   "cell_type": "markdown",
   "metadata": {},
   "source": [
    "#### Evaluate the models\n",
    "Perform a comparison between the predictive models. <br>\n",
    "Report the accuracy, recall, precision and F1-score measures as well as the confusion matrix if it is a classification problem. <br>\n",
    "Report the R2 score, mean squared error and mean absolute error if it is a regression problem.\n",
    "______________________________________________________________________________________\n",
    "Description: For SVM, we used the model without hyperparameter tuning because the results were the same with or without it. For KNN we show the result for both (with and without hyperparameter tuning) models since it have different results."
   ]
  },
  {
   "cell_type": "markdown",
   "metadata": {},
   "source": [
    "#####  Accuracy, Recall, Precision and F1-score "
   ]
  },
  {
   "cell_type": "code",
   "execution_count": 62,
   "metadata": {},
   "outputs": [],
   "source": [
    "# Create an empty dictionary named 'results' to store the results or performance metrics\n",
    "results = {}"
   ]
  },
  {
   "cell_type": "code",
   "execution_count": 63,
   "metadata": {},
   "outputs": [],
   "source": [
    "# Calculate the evaluation metrics and store results for SVM model \n",
    "# Indicators: accuracy, weighted precision, weighted recall, weighted f1 score \n",
    "svm.fit(X_train_20, Y_train_20)\n",
    "\n",
    "#Predict test data\n",
    "Y_pred_svm = svm.predict(X_test_20)\n",
    "\n",
    "#Store results\n",
    "results['Support Vector Machines'] = [accuracy_score(Y_test_20, Y_pred_svm),\n",
    "                                  precision_score(Y_test_20, Y_pred_svm, average='weighted'),\n",
    "                                  recall_score(Y_test_20, Y_pred_svm, average='weighted'),\n",
    "                                  f1_score(Y_test_20, Y_pred_svm, average='weighted')\n",
    "                                  ]"
   ]
  },
  {
   "cell_type": "code",
   "execution_count": 64,
   "metadata": {},
   "outputs": [],
   "source": [
    "# Calculate the evaluation metrics and store results for KNN model \n",
    "# Indicators: accuracy, weighted precision, weighted recall, weighted f1 score \n",
    "knn.fit(X_train_20, Y_train_20)\n",
    "\n",
    "#Predict test data\n",
    "Y_pred_knn = knn.predict(X_test_20)\n",
    "\n",
    "#Store results\n",
    "results['K-Nearest Neighbours'] = [accuracy_score(Y_test_20, Y_pred_knn),\n",
    "                                  precision_score(Y_test_20, Y_pred_knn, average='weighted'),\n",
    "                                  recall_score(Y_test_20, Y_pred_knn, average='weighted'),\n",
    "                                  f1_score(Y_test_20, Y_pred_knn, average='weighted')\n",
    "                                  ]"
   ]
  },
  {
   "cell_type": "code",
   "execution_count": 65,
   "metadata": {},
   "outputs": [],
   "source": [
    "# Calculate the evaluation metrics and store results for KNN model \n",
    "# Indicators: accuracy, weighted precision, weighted recall, weighted f1 score \n",
    "knn_HT.fit(X_train_20, Y_train_20)\n",
    "\n",
    "#Predict test data\n",
    "Y_pred_knn_HT = knn_HT.predict(X_test_20)\n",
    "\n",
    "#Store results\n",
    "results['K-Nearest Neighbours (with HyperParameter Tuning)'] = [accuracy_score(Y_test_20, Y_pred_knn_HT),\n",
    "                                  precision_score(Y_test_20, Y_pred_knn_HT, average='weighted'),\n",
    "                                  recall_score(Y_test_20, Y_pred_knn_HT, average='weighted'),\n",
    "                                  f1_score(Y_test_20, Y_pred_knn_HT, average='weighted')\n",
    "                                  ]"
   ]
  },
  {
   "cell_type": "code",
   "execution_count": 66,
   "metadata": {},
   "outputs": [
    {
     "data": {
      "text/html": [
       "<div>\n",
       "<style scoped>\n",
       "    .dataframe tbody tr th:only-of-type {\n",
       "        vertical-align: middle;\n",
       "    }\n",
       "\n",
       "    .dataframe tbody tr th {\n",
       "        vertical-align: top;\n",
       "    }\n",
       "\n",
       "    .dataframe thead th {\n",
       "        text-align: right;\n",
       "    }\n",
       "</style>\n",
       "<table border=\"1\" class=\"dataframe\">\n",
       "  <thead>\n",
       "    <tr style=\"text-align: right;\">\n",
       "      <th></th>\n",
       "      <th>Accuracy</th>\n",
       "      <th>Precision</th>\n",
       "      <th>Recall</th>\n",
       "      <th>F1-Score</th>\n",
       "    </tr>\n",
       "  </thead>\n",
       "  <tbody>\n",
       "    <tr>\n",
       "      <th>Support Vector Machines</th>\n",
       "      <td>0.972222</td>\n",
       "      <td>0.976496</td>\n",
       "      <td>0.972222</td>\n",
       "      <td>0.972222</td>\n",
       "    </tr>\n",
       "    <tr>\n",
       "      <th>K-Nearest Neighbours</th>\n",
       "      <td>0.916667</td>\n",
       "      <td>0.946078</td>\n",
       "      <td>0.916667</td>\n",
       "      <td>0.905919</td>\n",
       "    </tr>\n",
       "    <tr>\n",
       "      <th>K-Nearest Neighbours (with HyperParameter Tuning)</th>\n",
       "      <td>0.958333</td>\n",
       "      <td>0.967262</td>\n",
       "      <td>0.958333</td>\n",
       "      <td>0.958116</td>\n",
       "    </tr>\n",
       "  </tbody>\n",
       "</table>\n",
       "</div>"
      ],
      "text/plain": [
       "                                                   Accuracy  Precision  \\\n",
       "Support Vector Machines                            0.972222   0.976496   \n",
       "K-Nearest Neighbours                               0.916667   0.946078   \n",
       "K-Nearest Neighbours (with HyperParameter Tuning)  0.958333   0.967262   \n",
       "\n",
       "                                                     Recall  F1-Score  \n",
       "Support Vector Machines                            0.972222  0.972222  \n",
       "K-Nearest Neighbours                               0.916667  0.905919  \n",
       "K-Nearest Neighbours (with HyperParameter Tuning)  0.958333  0.958116  "
      ]
     },
     "execution_count": 66,
     "metadata": {},
     "output_type": "execute_result"
    }
   ],
   "source": [
    "# Create a DataFrame from the results dictionary with 'results' as the data\n",
    "# to determine the accuracy, precision, recall, f1 score\n",
    "df_results = pd.DataFrame.from_dict(results, orient='index', columns=['Accuracy', 'Precision', 'Recall', 'F1-Score'])\n",
    "\n",
    "df_results"
   ]
  },
  {
   "cell_type": "markdown",
   "metadata": {},
   "source": [
    "As for the result, Support Vector Machine is the best predictive model in predicting dermatology dataset. K-Nearest Neighbour with hyperparameter tuning comes second before K-Nearest Neighbour without hyperparameter tuning."
   ]
  },
  {
   "cell_type": "markdown",
   "metadata": {},
   "source": [
    "##### Confusion Matrix"
   ]
  },
  {
   "cell_type": "markdown",
   "metadata": {},
   "source": [
    "##### SVM"
   ]
  },
  {
   "cell_type": "code",
   "execution_count": 67,
   "metadata": {},
   "outputs": [
    {
     "data": {
      "image/png": "[encoded data removed]",
      "text/plain": [
       "<Figure size 576x432 with 1 Axes>"
      ]
     },
     "metadata": {
      "needs_background": "light"
     },
     "output_type": "display_data"
    }
   ],
   "source": [
    "# Assuming Y_test_10 and Y_pred_10 contain the true labels and predicted labels, respectively\n",
    "cm = confusion_matrix(Y_test_20, Y_pred_svm)\n",
    "\n",
    "# Create a figure and axes\n",
    "fig, ax = plt.subplots(figsize=(8, 6))\n",
    "\n",
    "# Create a heatmap using seaborn\n",
    "sns.heatmap(cm, annot=True, fmt='d', cmap='Blues', cbar=False)\n",
    "\n",
    "# Set labels, title, and ticks\n",
    "ax.set_xlabel('Predicted labels')\n",
    "ax.set_ylabel('True labels')\n",
    "ax.set_title('Confusion Matrix')\n",
    "ax.xaxis.set_ticklabels(['Class 0', 'Class 1', 'Class 2','Class 3', 'Class 4', 'Class 5'])  \n",
    "ax.yaxis.set_ticklabels(['Class 0', 'Class 1', 'Class 2','Class 3', 'Class 4', 'Class 5'])  \n",
    "\n",
    "# Display the plot\n",
    "plt.show()"
   ]
  },
  {
   "cell_type": "markdown",
   "metadata": {},
   "source": [
    "The first row represents the instances that are actually in the first class. In this case, there are 19 instances. The remaining values in this row are zeros because none of the instances in the first class were misclassified as belonging to any other class. The second row corresponds to the instances actually belonging to the second class. There are 11 instances in this class, and all of them were correctly classified. The third row represents the instances in the third class. All 10 instances in this class were classified correctly. The fourth row corresponds to the instances actually belonging to the fourth class. There are 13 instances in this class, but 2 of them were misclassified as belonging to the second class. The fifth row represents the instances in the fifth class. All 14 instances in this class were correctly classified. The sixth row corresponds to the instances actually belonging to the sixth class. There are 5 instances in this class, and all of them were classified correctly."
   ]
  },
  {
   "cell_type": "markdown",
   "metadata": {},
   "source": [
    "##### KNN"
   ]
  },
  {
   "cell_type": "code",
   "execution_count": 68,
   "metadata": {
    "scrolled": false
   },
   "outputs": [
    {
     "data": {
      "image/png": "[encoded data removed]",
      "text/plain": [
       "<Figure size 576x432 with 1 Axes>"
      ]
     },
     "metadata": {
      "needs_background": "light"
     },
     "output_type": "display_data"
    }
   ],
   "source": [
    "# Assuming Y_test_10 and Y_pred_10 contain the true labels and predicted labels, respectively\n",
    "cm = confusion_matrix(Y_test_20, Y_pred_knn)\n",
    "\n",
    "# Create a figure and axes\n",
    "fig, ax = plt.subplots(figsize=(8, 6))\n",
    "\n",
    "# Create a heatmap using seaborn\n",
    "sns.heatmap(cm, annot=True, fmt='d', cmap='Blues', cbar=False)\n",
    "\n",
    "# Set labels, title, and ticks\n",
    "ax.set_xlabel('Predicted labels')\n",
    "ax.set_ylabel('True labels')\n",
    "ax.set_title('Confusion Matrix')\n",
    "ax.xaxis.set_ticklabels(['Class 0', 'Class 1', 'Class 2','Class 3', 'Class 4', 'Class 5'])  \n",
    "ax.yaxis.set_ticklabels(['Class 0', 'Class 1', 'Class 2','Class 3', 'Class 4', 'Class 5'])  \n",
    "\n",
    "# Display the plot\n",
    "plt.show()"
   ]
  },
  {
   "cell_type": "markdown",
   "metadata": {},
   "source": [
    "The first row corresponds to the instances that are truly in the first class. Out of the 19 instances, all of them were classified correctly, as there are no misclassifications in this row. The second row represents the instances truly belonging to the second class. There are 11 instances, and all of them were classified correctly. The third row corresponds to the instances truly belonging to the third class. All 10 instances were correctly classified. The fourth row represents the instances truly belonging to the fourth class. Out of the 13 instances, 2 were misclassified as belonging to the second class. The remaining 10 instances were classified correctly. The fifth row corresponds to the instances truly belonging to the fifth class. All 14 instances were correctly classified. The sixth row represents the instances truly belonging to the sixth class. Out of the 5 instances, 4 were misclassified. These two instances were classified as belonging to the second class."
   ]
  }
 ],
 "metadata": {
  "kernelspec": {
   "display_name": "Python 3 (ipykernel)",
   "language": "python",
   "name": "python3"
  },
  "language_info": {
   "codemirror_mode": {
    "name": "ipython",
    "version": 3
   },
   "file_extension": ".py",
   "mimetype": "text/x-python",
   "name": "python",
   "nbconvert_exporter": "python",
   "pygments_lexer": "ipython3",
   "version": "3.9.7"
  }
 },
 "nbformat": 4,
 "nbformat_minor": 4
}
